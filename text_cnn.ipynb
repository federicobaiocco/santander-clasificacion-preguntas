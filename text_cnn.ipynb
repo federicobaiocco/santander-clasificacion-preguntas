{
 "cells": [
  {
   "cell_type": "markdown",
   "metadata": {},
   "source": [
    "# Clasificación de preguntas de clientes - Santander\n",
    "\n",
    "En Santander tenemos por misión contribuir al progreso de las personas y las empresas. Debido a ello buscamos constantemente nuevas formas de entender al cliente, con el objetivo de consolidar vínculos a largo plazo.\n",
    "\n",
    "Nuestro equipo de Advanced Analytics & Machine Learning se encuentra en continua mejora de sus algoritmos y modelos. Basándonos en esta premisa, decidimos abrir nuestros datos e invitar a la comunidad a identificar nuevas formas de entender las preguntas y reclamos de nuestros clientes, utilizando un motor de NLU (Natural Language Understanding).\n",
    "\n",
    "Esta competencia tiene como objetivo desarrollar un algoritmo de clasificación que, utilizando técnicas de NLP (Natural Language Processing), sea capaz de entender la intención de un cliente (target) al momento de realizar una pregunta (predictor) en alguno de los canales del Banco.\n",
    "\n",
    "# Descripción\n",
    "Se disponen de tres datasets:\n",
    "\n",
    "- training.csv: reúne la información del caso, el mismo tiene dos columnas:\n",
    "    - Pregunta: pregunta realizada por el cliente. (String)\n",
    "    - Intención: intención de la pregunta realizada, contiene 350 intenciones aproximadamente. (String)\n",
    "\n",
    "- test.csv: solo contiene la pregunta realizada por el cliente.\n",
    "\n",
    "- primer_submit.csv: este archivo tiene el formato en el que se deben enviar las predicciones.\n",
    "\n",
    "# Evaluación\n",
    "La evaluación consta de dos partes:\n",
    "\n",
    "1 - **Score de predicciones**: los resultados serán medidos utilizando la métrica **Balance Accuracy**. En el leaderboard se puede ver el mejor score público del total de submits de cada participante. El mismo se calcula con una porción de los datos de test. Metadata se reserva el score privado para la evaluación final.\n",
    "\n",
    "El archivo con predicciones que se debe submitear debe esta en formato csv sin encabezado y debe contar de dos columnas. La primer columna corresponde al 'id' de la pregunta hecha por el cliente en el archivo de test. La segunda a la categoría predicha en formato de entero, es decir, si la predicción es cat_101 (string) debe reportar solamente 101 (int). Para ver un ejemplo puede mirar el archivo primer_submit en las solapa Datos.\n",
    "\n",
    "2 - **Informe**: Al finalizar la competencia se pedirá a los primeros 10 competidores en el ranking de predicciones un informe adicional, donde se explique el modelo y la metodología aplicada. La nota la otorgará un jurado ad-hoc de especialistas en el tema evaluando el informe sobre el trabajo realizado con el análisis de contrastación entre los datos reales y los datos generados por los modelos.\n",
    "\n",
    "Finalmente, el score total que determinará los ganadores se compondrá en un 70% por el score privado conseguido con la predicción medida con la métrica especificada y el 30% restante se sumará con el informe.\n",
    "\n",
    "Importante: tanto Santander como Metadata se reservan el derecho a pedir el código para poder evaluar el modelo y evitar soluciones tramposas. En caso de que se le requiera el código a un participante y no lo envíe, será descalificado de forma inmediata."
   ]
  },
  {
   "cell_type": "code",
   "execution_count": 1,
   "metadata": {},
   "outputs": [
    {
     "name": "stderr",
     "output_type": "stream",
     "text": [
      "Using TensorFlow backend.\n"
     ]
    }
   ],
   "source": [
    "import os\n",
    "import sys\n",
    "import tensorflow.keras\n",
    "from tensorflow.keras.preprocessing.text import Tokenizer\n",
    "from tensorflow.keras.utils import to_categorical\n",
    "from tensorflow.keras.preprocessing.sequence import pad_sequences\n",
    "from keras.layers import Activation, Conv2D, Input, Embedding, Reshape, MaxPool1D, MaxPool2D, Concatenate, Flatten, Dropout, Dense, Conv1D\n",
    "from keras.models import Model, Sequential\n",
    "from keras.optimizers import Adam\n",
    "from keras.utils import to_categorical\n",
    "from sklearn.preprocessing import OneHotEncoder\n",
    "from sklearn.model_selection import train_test_split\n",
    "import re\n",
    "from gensim.models import KeyedVectors\n",
    "import spacy\n",
    "from spacy.lang.es.stop_words import STOP_WORDS\n",
    "import unicodedata\n",
    "import pandas as pd\n",
    "import numpy as np\n",
    "import matplotlib.pyplot as plt\n",
    "import seaborn as sns\n",
    "import warnings\n",
    "from sklearn import preprocessing\n",
    "warnings.filterwarnings('ignore')\n",
    "pd.set_option('display.max_columns', None)\n",
    "from keras.callbacks import ModelCheckpoint, ReduceLROnPlateau, EarlyStopping, CSVLogger, TensorBoard\n",
    "from imblearn.over_sampling import RandomOverSampler\n",
    "from imblearn.under_sampling import RandomUnderSampler\n",
    "from joblib import load, dump\n",
    "from keras.metrics import categorical_accuracy\n",
    "from keras.layers import GlobalMaxPooling1D, GlobalAveragePooling1D\n",
    "from keras.layers import LSTM,SpatialDropout1D, GRU, Bidirectional, TimeDistributed, BatchNormalization\n",
    "import gc\n",
    "from imblearn import FunctionSampler\n",
    "from sklearn.utils import class_weight\n",
    "import keras.backend as K\n",
    "import fasttext\n",
    "from spacy.lang.es import Spanish"
   ]
  },
  {
   "cell_type": "code",
   "execution_count": 2,
   "metadata": {},
   "outputs": [
    {
     "name": "stdout",
     "output_type": "stream",
     "text": [
      "Num GPUs Available:  0\n"
     ]
    }
   ],
   "source": [
    "import tensorflow as tf\n",
    "print(\"Num GPUs Available: \", len(tf.config.experimental.list_physical_devices('GPU')))"
   ]
  },
  {
   "cell_type": "code",
   "execution_count": 3,
   "metadata": {},
   "outputs": [],
   "source": [
    "df = pd.read_csv('./train.csv', sep='|')"
   ]
  },
  {
   "cell_type": "code",
   "execution_count": 4,
   "metadata": {},
   "outputs": [
    {
     "data": {
      "text/plain": [
       "(20104, 2)"
      ]
     },
     "execution_count": 4,
     "metadata": {},
     "output_type": "execute_result"
    }
   ],
   "source": [
    "df.shape"
   ]
  },
  {
   "cell_type": "code",
   "execution_count": 5,
   "metadata": {},
   "outputs": [
    {
     "data": {
      "text/html": [
       "<div>\n",
       "<style scoped>\n",
       "    .dataframe tbody tr th:only-of-type {\n",
       "        vertical-align: middle;\n",
       "    }\n",
       "\n",
       "    .dataframe tbody tr th {\n",
       "        vertical-align: top;\n",
       "    }\n",
       "\n",
       "    .dataframe thead th {\n",
       "        text-align: right;\n",
       "    }\n",
       "</style>\n",
       "<table border=\"1\" class=\"dataframe\">\n",
       "  <thead>\n",
       "    <tr style=\"text-align: right;\">\n",
       "      <th></th>\n",
       "      <th>Pregunta</th>\n",
       "      <th>Intencion</th>\n",
       "    </tr>\n",
       "  </thead>\n",
       "  <tbody>\n",
       "    <tr>\n",
       "      <th>0</th>\n",
       "      <td>como puedo trabajar en santander rio</td>\n",
       "      <td>Cat_102</td>\n",
       "    </tr>\n",
       "    <tr>\n",
       "      <th>1</th>\n",
       "      <td>pagar tarjeta visa querer reintegro</td>\n",
       "      <td>Cat_350</td>\n",
       "    </tr>\n",
       "    <tr>\n",
       "      <th>2</th>\n",
       "      <td>pagar tarjeta naranja sistema</td>\n",
       "      <td>Cat_132</td>\n",
       "    </tr>\n",
       "    <tr>\n",
       "      <th>3</th>\n",
       "      <td>no se debitó la primera cuota del plan de bien...</td>\n",
       "      <td>Cat_129</td>\n",
       "    </tr>\n",
       "    <tr>\n",
       "      <th>4</th>\n",
       "      <td>abonar tarjeta credito</td>\n",
       "      <td>Cat_342</td>\n",
       "    </tr>\n",
       "  </tbody>\n",
       "</table>\n",
       "</div>"
      ],
      "text/plain": [
       "                                            Pregunta Intencion\n",
       "0               como puedo trabajar en santander rio   Cat_102\n",
       "1                pagar tarjeta visa querer reintegro   Cat_350\n",
       "2                      pagar tarjeta naranja sistema   Cat_132\n",
       "3  no se debitó la primera cuota del plan de bien...   Cat_129\n",
       "4                             abonar tarjeta credito   Cat_342"
      ]
     },
     "execution_count": 5,
     "metadata": {},
     "output_type": "execute_result"
    }
   ],
   "source": [
    "df.head()"
   ]
  },
  {
   "cell_type": "code",
   "execution_count": 6,
   "metadata": {},
   "outputs": [
    {
     "data": {
      "text/plain": [
       "Pregunta     0\n",
       "Intencion    0\n",
       "dtype: int64"
      ]
     },
     "execution_count": 6,
     "metadata": {},
     "output_type": "execute_result"
    }
   ],
   "source": [
    "df.isna().sum()"
   ]
  },
  {
   "cell_type": "code",
   "execution_count": 7,
   "metadata": {},
   "outputs": [
    {
     "data": {
      "text/html": [
       "<div>\n",
       "<style scoped>\n",
       "    .dataframe tbody tr th:only-of-type {\n",
       "        vertical-align: middle;\n",
       "    }\n",
       "\n",
       "    .dataframe tbody tr th {\n",
       "        vertical-align: top;\n",
       "    }\n",
       "\n",
       "    .dataframe thead th {\n",
       "        text-align: right;\n",
       "    }\n",
       "</style>\n",
       "<table border=\"1\" class=\"dataframe\">\n",
       "  <thead>\n",
       "    <tr style=\"text-align: right;\">\n",
       "      <th></th>\n",
       "      <th>Intencion</th>\n",
       "    </tr>\n",
       "  </thead>\n",
       "  <tbody>\n",
       "    <tr>\n",
       "      <th>Cat_13</th>\n",
       "      <td>3</td>\n",
       "    </tr>\n",
       "    <tr>\n",
       "      <th>Cat_15</th>\n",
       "      <td>3</td>\n",
       "    </tr>\n",
       "    <tr>\n",
       "      <th>Cat_11</th>\n",
       "      <td>3</td>\n",
       "    </tr>\n",
       "    <tr>\n",
       "      <th>Cat_24</th>\n",
       "      <td>2</td>\n",
       "    </tr>\n",
       "    <tr>\n",
       "      <th>Cat_104</th>\n",
       "      <td>1</td>\n",
       "    </tr>\n",
       "  </tbody>\n",
       "</table>\n",
       "</div>"
      ],
      "text/plain": [
       "         Intencion\n",
       "Cat_13           3\n",
       "Cat_15           3\n",
       "Cat_11           3\n",
       "Cat_24           2\n",
       "Cat_104          1"
      ]
     },
     "execution_count": 7,
     "metadata": {},
     "output_type": "execute_result"
    }
   ],
   "source": [
    "val_counts = pd.DataFrame(df.Intencion.value_counts())\n",
    "val_counts.tail(5)"
   ]
  },
  {
   "cell_type": "code",
   "execution_count": 8,
   "metadata": {},
   "outputs": [],
   "source": [
    "#DESDE ACA:"
   ]
  },
  {
   "cell_type": "code",
   "execution_count": 9,
   "metadata": {},
   "outputs": [
    {
     "data": {
      "text/plain": [
       "0.9971590909090909"
      ]
     },
     "execution_count": 9,
     "metadata": {},
     "output_type": "execute_result"
    }
   ],
   "source": [
    "val_counts_df = pd.DataFrame(df.Intencion.value_counts())\n",
    "relevant_classes = val_counts_df[val_counts_df.Intencion > 1].index\n",
    "print(relevant_classes.shape[0] / df.Intencion.nunique())"
   ]
  },
  {
   "cell_type": "code",
   "execution_count": 10,
   "metadata": {},
   "outputs": [
    {
     "data": {
      "text/plain": [
       "351"
      ]
     },
     "execution_count": 10,
     "metadata": {},
     "output_type": "execute_result"
    }
   ],
   "source": [
    "relevant_classes.shape[0]"
   ]
  },
  {
   "cell_type": "code",
   "execution_count": 11,
   "metadata": {},
   "outputs": [],
   "source": [
    "df = df[df.Intencion.isin(relevant_classes)]"
   ]
  },
  {
   "cell_type": "code",
   "execution_count": 12,
   "metadata": {},
   "outputs": [
    {
     "data": {
      "text/plain": [
       "(20103, 2)"
      ]
     },
     "execution_count": 12,
     "metadata": {},
     "output_type": "execute_result"
    }
   ],
   "source": [
    "df.shape"
   ]
  },
  {
   "cell_type": "code",
   "execution_count": 13,
   "metadata": {},
   "outputs": [],
   "source": [
    "#lens = [len(x.split(\" \")) for x in df.Pregunta.values]\n",
    "#df['len'] = np.array(lens)\n",
    "#df = df[df.len < 20]"
   ]
  },
  {
   "cell_type": "code",
   "execution_count": 14,
   "metadata": {},
   "outputs": [],
   "source": [
    "TEST_SPLIT = 0.15\n",
    "FILTER_SIZES = [1,2,3]\n",
    "NUM_FILTERS = 512\n",
    "DROPOUT = 0.5\n",
    "BATCH_SIZE = 32\n",
    "EPOCHS = 30\n",
    "LEARNING_RATE = 1e-3\n",
    "EARLY_STOPPING_PATIENCE = 10"
   ]
  },
  {
   "cell_type": "code",
   "execution_count": 15,
   "metadata": {},
   "outputs": [],
   "source": [
    "def balanced_recall(y_true, y_pred):\n",
    "    \"\"\"\n",
    "    Computes the average per-column recall metric\n",
    "    for a multi-class classification problem\n",
    "    \"\"\" \n",
    "    true_positives = K.sum(K.round(K.clip(y_true * y_pred, 0, 1)), axis=0)  \n",
    "    possible_positives = K.sum(K.round(K.clip(y_true, 0, 1)), axis=0)   \n",
    "    recall = true_positives / (possible_positives + K.epsilon())    \n",
    "    balanced_recall = K.sum(recall, axis=0)/K.cast(K.shape(recall)[0], recall.dtype)\n",
    "    return balanced_recall"
   ]
  },
  {
   "cell_type": "code",
   "execution_count": 16,
   "metadata": {},
   "outputs": [],
   "source": [
    "class text_preprocessor():\n",
    "    \n",
    "    def __init__(self, test_split = 0.2, pad_with = 'max_len'):\n",
    "        '''\n",
    "        Pad with can be: 'max_lenght', 'avg_lenght' or int number\n",
    "        ''' \n",
    "        if (pad_with not in ('max_len','avg_len')) and (type(pad_with) is not int):\n",
    "            raise Exception(\"ERROR: Pad with must be 'max_lenght', 'avg_lenght' or int type\")\n",
    "        self.tokenizer = Tokenizer()\n",
    "        self.test_split = test_split\n",
    "        self.pad_with = pad_with\n",
    "        self.pad_text_to = None\n",
    "        self.nlp = Spanish()\n",
    "        self.y_label_encoder = OneHotEncoder(sparse=False)\n",
    "        self.transform_dict = {\n",
    "            'k':'que',\n",
    "            'q':'que',\n",
    "            'xq': 'por que',\n",
    "            'x': 'por',\n",
    "            'wsp':'whatsapp',\n",
    "            'wasap':'whatsapp',\n",
    "            'watsap':'whatsapp',\n",
    "            'vergüenza' : 'verguenza',\n",
    "            'gcs':'gracias',\n",
    "            'gxs':'gracias',\n",
    "            'grax':'gracias',\n",
    "            'nesecito': 'necesito',\n",
    "            'tageta':'tarjeta',\n",
    "            'psuper': 'super',\n",
    "            'hombamnkin': 'home banking',\n",
    "            'usd': 'dolares',\n",
    "            'invercion': 'inversion',\n",
    "            'buscartenencias': 'buscar tenencias',\n",
    "            'debit':'debito',\n",
    "            'nro':'numero',\n",
    "            'ala': 'a la',\n",
    "            'cel':'celular',\n",
    "            'prstamo':'prestamo',\n",
    "            'paguemi': 'pague mi',\n",
    "            'tc':'tarjeta de credito',\n",
    "            'agip': 'impuestos',\n",
    "            'afip': 'impuestos',\n",
    "            'dnrpa': 'impuestos',\n",
    "            'metrogas': 'empresa servicio gas',\n",
    "            'aysa': 'servicio agua',\n",
    "            'dnrpa': 'registro propiedad automotor impuestos',\n",
    "            'iibb': 'impuestos ingresos brutos',\n",
    "            'directv': 'empresa servicios television',\n",
    "            'naranja':'empresa servicios financieros',\n",
    "            'internet': 'servicios internet',\n",
    "            'movistar':'empresa servicios telefonia',\n",
    "            'edenor':'servicios electricidad',\n",
    "            'bus': 'servicios autobus',\n",
    "            'redbus':'servicios autobus',\n",
    "            'gas': 'servicios gas',\n",
    "            'epec':'empresa servicios electricidad',\n",
    "            'luz':'servicios electricidad',\n",
    "            'vep':'impuestos voleto electronico de pago',\n",
    "            'expensas':'impuestos expensas',\n",
    "            'cel': 'celular',\n",
    "            'recargar': 'pagar',\n",
    "            'monotributo': 'impuestos monotributo',\n",
    "            'edesur':'empresa servicios electricidad',\n",
    "            'fibertel':'empresa servicios internet',\n",
    "            'aduana':'impuestos aduana',\n",
    "            'recarga':'pagar',\n",
    "            'patentar':'impuestos patente',\n",
    "            'cmo':'como',\n",
    "            'women':'mujer',\n",
    "            'woman':'mujer',\n",
    "            'transferi':'transferencia',\n",
    "            'advantage':'programa ventaja beneficios',\n",
    "            'contactless': 'sin contacto',\n",
    "            'contacless':'sin contacto',\n",
    "            'contactles': 'sin contacto',\n",
    "            'ahora12': 'ahora doce',\n",
    "            'vivienda': 'casa',\n",
    "            'propiedad': 'casa',\n",
    "            'letes': 'acciones',\n",
    "            'bonos': 'acciones',\n",
    "            'workcafe': 'trabajo cafe',\n",
    "            'sé': 'saber',\n",
    "            'coworking': 'trabajo cafe',\n",
    "            'porq': 'por que',\n",
    "            'num':'numero',\n",
    "            'porq': 'por que',\n",
    "            'cualew': 'cuales',\n",
    "            'fci': 'fondo comun de inversion',\n",
    "            'priority': 'prioritario',\n",
    "            'vip': 'prioritario',\n",
    "            'pas': 'entrada',\n",
    "            'pass': 'entrada',\n",
    "            'visahome': 'visa home',\n",
    "            'sertificado': 'certificado',\n",
    "            'comitente': 'custodia',\n",
    "            'desisto': 'desisto cancelo',\n",
    "            'desistir':'desistir cancelar',\n",
    "            'desisti':'desisti cancelar',\n",
    "            'pensiones': 'pensiones jubilados',\n",
    "            'pensionado': 'pensionado jubilado',\n",
    "            'cuit': 'cuit datos direccion codigo unico de identificacion tributaria',\n",
    "            'debin': 'debito inmediato',\n",
    "            'credin': 'credito inmediato',\n",
    "            'open':'abierto',\n",
    "            'credit':'credito',\n",
    "            'movieclub': 'club peliculas',\n",
    "            'lavoz': 'diario la voz',\n",
    "            'ia': 'inteligencia artificial',\n",
    "            'bot': 'robot virtual inteligencia artificial',\n",
    "            'veras': 'veraz deuda',\n",
    "            'veraz': 'veraz deuda',\n",
    "            'value': 'valor',\n",
    "            'dining': 'comida',\n",
    "            'concergerie': 'conserjeria',\n",
    "            'concierge': 'conserjeria',\n",
    "            'checkin':'registro',\n",
    "            'aeroparque': 'aeropuerto',\n",
    "            'ezeiza': 'aeropuerto',\n",
    "            'voucher': 'vale',\n",
    "            'extración': 'extraccion',\n",
    "            'extracion': 'extraccion',\n",
    "            'amex': 'tarjeta',\n",
    "            'cuantosaaños': 'cuantos años',\n",
    "            'lebacs': 'acciones',\n",
    "            'lollapalooza': 'festival',\n",
    "            'lolla': 'festival',\n",
    "            'lolapaloza': 'festival',\n",
    "            'cbu': 'clave bancaria uniforme',\n",
    "            'cuil': 'codigo unico identificacion laboral',\n",
    "            'bonar': 'bonos',\n",
    "            'merval': 'bonos',\n",
    "            'uva': 'bonos',\n",
    "            'ypf': 'empresa petrolera',\n",
    "            'petrobras': 'empresa petrolera',\n",
    "            'teco': 'empresa servicios telefonia',\n",
    "            'ceco':'empresa servicios energia',\n",
    "            'aluar': 'empresa aluminio',\n",
    "            'edenor': 'empresa servicios energia',\n",
    "            'consultatio': 'consultatio inversiones',\n",
    "            'caputo': 'acciones caputo',\n",
    "            'visahome': 'sitio web visa home',\n",
    "            'targeta': 'tarjeta',\n",
    "            'targetas': 'tarjetas',\n",
    "            'todopago': 'todo pago billetera virtual',\n",
    "            'app': 'aplicacion movil',\n",
    "            'holis': 'hola',\n",
    "            'holi':'hola',\n",
    "            'holas': 'hola',\n",
    "            'holus': 'hola',\n",
    "            'sms': 'mensaje de texto',\n",
    "            'bye': 'chau',\n",
    "            'chauchis': 'chau',\n",
    "            'chauchi': 'chau',\n",
    "            'adios': 'chau',\n",
    "            'byebye': 'chau',\n",
    "            'chauchu':'chau',\n",
    "            'fembot': 'mujer',\n",
    "            'chica': 'mujer',\n",
    "            'chico': 'hombre',\n",
    "            'muchacha': 'mujer femenina',\n",
    "            'muchacho': 'hombre masculino',\n",
    "        }\n",
    "        self.frases_dict = {\n",
    "            'dar de baja': 'dar de baja cancelar',\n",
    "            'red bus': 'servicios autobus',\n",
    "            'tarjeta sube': 'servicios autobus',\n",
    "            'la sube': 'servicios autobus',\n",
    "            'ahora 12': 'ahora doce',\n",
    "            'ahora 18': 'ahora diesiocho',\n",
    "            'me llamo': 'mi nombre es',\n",
    "            'la voz': 'diario la voz',\n",
    "            'club la nacion': 'club diario la nacion',\n",
    "            'darme de baja': 'darme de baja cancelar',\n",
    "            'dar la baja': 'dar la baja cancelar',\n",
    "            'clarin': 'diario clarin',\n",
    "            'clarín': 'diario clarin',\n",
    "            '365': 'tarjeta diario clarin',\n",
    "            'quiero la baja':'quiero la baja cancelar',\n",
    "            'que no conozco': 'que no conozco desconocida',\n",
    "            'súper ordenador': 'super ordenador virtual inteligente',\n",
    "            'asistente virtual': 'asistente virtual inteligente',\n",
    "            'check in': 'registro',\n",
    "            'american express': 'tarjeta',\n",
    "            'american expres': 'tarjeta',\n",
    "            'tarjeta sube':'servicios autobus',\n",
    "            'co working': 'trabajo cafe'\n",
    "        }\n",
    "        self.non_important_words = ['abuela','florestaahora','tio','hijo','hermana','hermano',\n",
    "                       'quiero','quisiera','queria', 'mama', 'papa', 'mamá','papá',\n",
    "                       'favor','chaco', 'avda', 'santa', 'fe', 'belgrano', 'av','cabildo']\n",
    "        \n",
    "        self.important_words = ['no', 'puedo','dos','veces','pagar','debitar','querer','gracias','saber','que','mayor',\n",
    "                   'color', 'casa', 'donada','veo', 'ver','otros','sin', 'poder','nunca','tipo','sos','menor',\n",
    "                   'cuenta','como','te','va','onda','tal','se','dias','tiempo','usar', 'cuando','voz','buenos',\n",
    "                    'como','esta', 'donde','sabes','saber', 'puedo', 'podes','hola', 'buenas', 'tardes','buen',\n",
    "                   'tengo','el', 'ella',]\n",
    "    def fit_transform(self, df):\n",
    "        # Data Preparation\n",
    "        x_text, y = self.make_dataset(df)\n",
    "        \n",
    "        # Build vocabulary\n",
    "        if self.pad_with == 'max_len':\n",
    "            max_text_lenght = max([len(x.split(\" \")) for x in x_text])\n",
    "            self.pad_text_to = max_text_lenght\n",
    "        elif self.pad_with == 'avg_len':\n",
    "            avg_text_lenght = int(np.mean([len(x.split(\" \")) for x in x_text]))\n",
    "            self.pad_text_to = avg_text_lenght\n",
    "        elif type(self.pad_with) is int:\n",
    "            self.pad_text_to = self.pad_with\n",
    "        else:\n",
    "            raise Exception(\"ERROR: Pad with must be 'max_lenght', 'avg_lenght' or int type\")\n",
    "        \n",
    "        self.tokenizer.fit_on_texts(x_text)\n",
    "        sequences =  self.tokenizer.texts_to_sequences(x_text)\n",
    "        word_index = self.tokenizer.word_index\n",
    "        vocab_size = len(word_index) + 1\n",
    "        print(\"Vocabulary Size : {}\".format(vocab_size))\n",
    "        x = pad_sequences(sequences, maxlen=self.pad_text_to) # Pad with 0.0 (default pad_sequences value)\n",
    "\n",
    "        x_train, x_test, y_train, y_test = train_test_split(x, y, test_size=self.test_split, random_state=42,stratify=y)\n",
    "        \n",
    "        del x, y\n",
    "\n",
    "        print(\"Train/Test split: {:d}/{:d}\".format(len(y_train), len(y_test)))\n",
    "        return x_train, y_train, vocab_size, word_index, x_test, y_test, x_text\n",
    "   \n",
    "    def transform(self, text):\n",
    "        stripped = [s.strip() for s in text]\n",
    "        clean = [self.clean_str(sent) for sent in stripped]\n",
    "        sequences = self.tokenizer.texts_to_sequences(clean)\n",
    "        x = pad_sequences(sequences, maxlen=self.pad_text_to)\n",
    "        return x\n",
    "    \n",
    "    def get_padded_text_len(self):\n",
    "        if self.pad_text_to is not None:\n",
    "            return self.pad_text_to\n",
    "        else:\n",
    "            raise Exception(\"ERROR: pad_text_to is not set. Must fit before get_padded_text_len\")\n",
    "    \n",
    "    def replace_words(self, s, words):\n",
    "        for k, v in words.items():\n",
    "            s = s.replace(k, v)\n",
    "        return s\n",
    "\n",
    "    def clean_str(self,text):\n",
    "        s = []\n",
    "        text = self.replace_words(text, self.frases_dict)\n",
    "        duplicates_to_remove = \"abdefghijkmnñopqstuvwxyz\" #remove duplicate chars exept for l, r and c\n",
    "        text = re.sub(r'[^[:alpha:]\\s]+', '', text)\n",
    "        text = re.sub(r'(\\w)\\1{2,}', r'\\1', text) #3 chars\n",
    "        text = re.sub(\"(?P<char>[\" + re.escape(duplicates_to_remove) + \"])(?P=char)+\", r\"\\1\", text)\n",
    "        text = re.sub(r\",\", \" , \", text)\n",
    "        text = re.sub(r\"\\.\", \" . \", text)\n",
    "        text = re.sub(r\"\\/\", \" / \", text)\n",
    "        text = re.sub(r\"!\", \" ! \", text)\n",
    "        text = re.sub(r\"\\(\", \" \\( \", text)\n",
    "        text = re.sub(r\"\\)\", \" \\) \", text)\n",
    "        text = re.sub(r\"\\?\", \" \\? \", text)\n",
    "        text = re.sub(r\"\\s{2,}\", \" \", text) #2 spaces\n",
    "        text = ''.join(self.transform_dict[w.lower()] if w.lower() in self.transform_dict else w for w in re.split(r'(\\W+)', text))\n",
    "\n",
    "        for tok in self.nlp.tokenizer(text.lower()):\n",
    "            #not tok.is_stop and \n",
    "            if not tok.is_stop and tok.text not in self.non_important_words or tok.text in self.important_words:\n",
    "                if tok.is_alpha and not (tok.is_digit or len(tok.text) == 1):\n",
    "                    if not tok.is_ascii:\n",
    "                        tok = ''.join(c for c in unicodedata.normalize('NFD', tok.lemma_.lower()) if unicodedata.category(c) != 'Mn')                    \n",
    "                        s.append(tok)\n",
    "                    else:\n",
    "                        s.append(tok.lemma_)\n",
    "        if not s:\n",
    "            return \"emptystring\"\n",
    "        else:\n",
    "            s = ' '.join(s)\n",
    "            return s\n",
    "\n",
    "    def make_dataset(self, df):\n",
    "        x = df['Pregunta'].values\n",
    "        y = df['Intencion']\n",
    "        \n",
    "        x = [s.strip() for s in x]\n",
    "        x = [self.clean_str(sent) for sent in x]\n",
    "        # labels\n",
    "        y = y.str.extract('(\\d+)')\n",
    "        y = self.y_label_encoder.fit_transform(y)  \n",
    "        return [x, y]\n",
    "    \n",
    "    def get_class_name(self, preds):\n",
    "        return self.y_label_encoder.inverse_transform(preds)"
   ]
  },
  {
   "cell_type": "code",
   "execution_count": 17,
   "metadata": {},
   "outputs": [],
   "source": [
    "processor = text_preprocessor(test_split = TEST_SPLIT, pad_with = 'max_len')"
   ]
  },
  {
   "cell_type": "code",
   "execution_count": 18,
   "metadata": {},
   "outputs": [
    {
     "data": {
      "text/plain": [
       "'hola santander rio tarjeta como sacarla'"
      ]
     },
     "execution_count": 18,
     "metadata": {},
     "output_type": "execute_result"
    }
   ],
   "source": [
    "processor.clean_str('holaaaa.. aaa  ¬≠¬≠¬≠¬≠como estas santander rio ¬≠banco quiero una tarjeta como hago para sacarla')"
   ]
  },
  {
   "cell_type": "code",
   "execution_count": 19,
   "metadata": {},
   "outputs": [
    {
     "name": "stdout",
     "output_type": "stream",
     "text": [
      "Vocabulary Size : 5273\n",
      "Train/Test split: 17087/3016\n"
     ]
    }
   ],
   "source": [
    "x_train, y_train, vocab_size, word_index, x_test, y_test, x_text = processor.fit_transform(df)"
   ]
  },
  {
   "cell_type": "code",
   "execution_count": 20,
   "metadata": {},
   "outputs": [],
   "source": [
    "texts_fixed_len = processor.get_padded_text_len()"
   ]
  },
  {
   "cell_type": "code",
   "execution_count": 21,
   "metadata": {},
   "outputs": [
    {
     "name": "stdout",
     "output_type": "stream",
     "text": [
      "All texts will be padded with 24 words\n"
     ]
    }
   ],
   "source": [
    "print(\"All texts will be padded with {} words\".format(texts_fixed_len))"
   ]
  },
  {
   "cell_type": "code",
   "execution_count": 22,
   "metadata": {},
   "outputs": [
    {
     "data": {
      "text/plain": [
       "(17087, 351)"
      ]
     },
     "execution_count": 22,
     "metadata": {},
     "output_type": "execute_result"
    }
   ],
   "source": [
    "y_train.shape"
   ]
  },
  {
   "cell_type": "code",
   "execution_count": 23,
   "metadata": {},
   "outputs": [
    {
     "data": {
      "text/plain": [
       "['como puedo santander rio',\n",
       " 'pagar tarjeta visa querer reintegro',\n",
       " 'pagar tarjeta empresa servicios financieros sistema',\n",
       " 'no se debito cuota plan bienes personales saber que',\n",
       " 'abonar tarjeta credito',\n",
       " 'se pagar mastercard autoservicios banco',\n",
       " 'informar que viajar exterior',\n",
       " 'pasar preguntar seguridad',\n",
       " 'olvide contrasena home banking',\n",
       " 'como doy baja tarjeta telefono no comunicarse',\n",
       " 'poder obtener clave',\n",
       " 'que supervivencia sucursal floresta ella pilar banco',\n",
       " 'pagar servicio pagina banco',\n",
       " 'cobran recibir dolares exterior',\n",
       " 'ayudas terminar canje no puedo electronica',\n",
       " 'solicitar el prestamo santander rio',\n",
       " 'puedo retirar dinero plazo fijo',\n",
       " 'invertir bolsa acciones pampa energia',\n",
       " 'saber como recuperar contrasena cajero automatico',\n",
       " 'necesito pedir reimpresion que tramite tengo que',\n",
       " 'donde pago cuota prestamo personal',\n",
       " 'tengo atraso el pago tarjeta',\n",
       " 'que casas ropa va promo',\n",
       " 'deseo ver el distribucion plastico',\n",
       " 'tardar reponer tarjeta debito']"
      ]
     },
     "execution_count": 23,
     "metadata": {},
     "output_type": "execute_result"
    }
   ],
   "source": [
    "x_text[:25]"
   ]
  },
  {
   "cell_type": "code",
   "execution_count": 24,
   "metadata": {},
   "outputs": [
    {
     "name": "stderr",
     "output_type": "stream",
     "text": [
      "Warning : `load_model` does not return WordVectorModel or SupervisedModel any more, but a `FastText` object which is very similar.\n"
     ]
    }
   ],
   "source": [
    "wvecs = fasttext.load_model('./embeddings/cc.es.300.bin')\n",
    "embeddings_vec_size = wvecs.get_dimension()"
   ]
  },
  {
   "cell_type": "code",
   "execution_count": 25,
   "metadata": {},
   "outputs": [],
   "source": [
    "embedding_matrix = np.zeros((len(word_index) + 1, embeddings_vec_size))\n",
    "for word, i in word_index.items():\n",
    "    try:\n",
    "        embedding_vector = wvecs.get_word_vector(word)\n",
    "        if embedding_vector is not None:\n",
    "            embedding_matrix[i] = embedding_vector\n",
    "    except:\n",
    "        pass # words that are not found in embeddings are filled with all 0"
   ]
  },
  {
   "cell_type": "code",
   "execution_count": 63,
   "metadata": {},
   "outputs": [],
   "source": [
    "sequence_input = Input(shape=(texts_fixed_len,), dtype='int32')\n",
    "\n",
    "# static channel\n",
    "embedding_layer_frozen = Embedding(len(word_index) + 1,\n",
    "                            embeddings_vec_size,\n",
    "                            weights=[embedding_matrix],\n",
    "                            input_length=texts_fixed_len,\n",
    "                            trainable=False)\n",
    "embedded_sequences_frozen = embedding_layer_frozen(sequence_input)\n",
    "drop_frozen = SpatialDropout1D(0.5)(embedded_sequences_frozen)\n",
    "reshape_frozen = Reshape((texts_fixed_len,embeddings_vec_size,1))(drop_frozen)\n",
    "\n",
    "# non-static channel\n",
    "embedding_layer_train = Embedding(len(word_index) + 1,\n",
    "                            embeddings_vec_size,\n",
    "                            weights=[embedding_matrix],\n",
    "                            input_length=texts_fixed_len,\n",
    "                            trainable=True)\n",
    "embedded_sequences_train = embedding_layer_train(sequence_input)\n",
    "drop_train = SpatialDropout1D(0.5)(embedded_sequences_train)\n",
    "reshape_train = Reshape((texts_fixed_len,embeddings_vec_size,1))(drop_train)\n",
    "\n",
    "l_conv_4f = Conv2D(filters=128, \n",
    "                    kernel_size=(1, embeddings_vec_size),\n",
    "                    padding='valid', \n",
    "                    kernel_initializer='normal', \n",
    "                    activation='relu')(reshape_frozen)\n",
    "l_mpool_4f = MaxPool2D(pool_size=(texts_fixed_len - 1 + 1, 1),\n",
    "                       strides=(1),\n",
    "                       padding='valid')(l_conv_4f)\n",
    "l_conv_4f = Dropout(0.5)(l_mpool_4f)\n",
    "\n",
    "l_conv_4t = Conv2D(filters=128, \n",
    "                    kernel_size=(1, embeddings_vec_size),\n",
    "                    padding='valid', \n",
    "                    kernel_initializer='normal', \n",
    "                    activation='relu')(reshape_train)\n",
    "l_mpool_4t = MaxPool2D(pool_size=(texts_fixed_len - 1 + 1, 1),\n",
    "                       strides=(1),\n",
    "                       padding='valid')(l_conv_4t)\n",
    "l_conv_4t = Dropout(0.5)(l_mpool_4t)\n",
    "\n",
    "l_conv_3f = Conv2D(filters=128, \n",
    "                    kernel_size=(2, embeddings_vec_size),\n",
    "                    padding='valid', \n",
    "                    kernel_initializer='normal', \n",
    "                    activation='relu')(reshape_frozen)\n",
    "l_mpool_3f = MaxPool2D(pool_size=(texts_fixed_len - 2 + 1, 1),\n",
    "                       strides=(1),\n",
    "                       padding='valid')(l_conv_3f)\n",
    "l_conv_3f = Dropout(0.5)(l_mpool_3f)\n",
    "\n",
    "l_conv_3t = Conv2D(filters=128, \n",
    "                    kernel_size=(2, embeddings_vec_size),\n",
    "                    padding='valid', \n",
    "                    kernel_initializer='normal', \n",
    "                    activation='relu')(reshape_train)\n",
    "l_mpool_3t = MaxPool2D(pool_size=(texts_fixed_len - 2 + 1, 1),\n",
    "                       strides=(1),\n",
    "                       padding='valid')(l_conv_3t)\n",
    "l_conv_3t = Dropout(0.5)(l_mpool_3t)\n",
    "\n",
    "l_conv_2f = Conv2D(filters=128, \n",
    "                    kernel_size=(3, embeddings_vec_size),\n",
    "                    padding='valid', \n",
    "                    kernel_initializer='normal', \n",
    "                    activation='relu')(reshape_frozen)\n",
    "l_mpool_2f = MaxPool2D(pool_size=(texts_fixed_len - 3 + 1, 1),\n",
    "                       strides=(1),\n",
    "                       padding='valid')(l_conv_2f)\n",
    "l_conv_2f = Dropout(0.5)(l_mpool_2f)\n",
    "\n",
    "l_conv_2t = Conv2D(filters=128, \n",
    "                    kernel_size=(3, embeddings_vec_size),\n",
    "                    padding='valid', \n",
    "                    kernel_initializer='normal', \n",
    "                    activation='relu')(reshape_train)\n",
    "l_mpool_2t = MaxPool2D(pool_size=(texts_fixed_len - 3 + 1, 1),\n",
    "                       strides=(1),\n",
    "                       padding='valid')(l_conv_2t)\n",
    "l_conv_2t = Dropout(0.5)(l_mpool_2t)\n",
    "\n",
    "conv_2 = [l_conv_4f, l_conv_4t,l_conv_3f, l_conv_3t, l_conv_2f, l_conv_2t] # \n",
    "\n",
    "l_merge_2 = Concatenate(axis=1)(conv_2)\n",
    "\n",
    "l_flat = Flatten()(l_merge_2)\n",
    "\n",
    "preds = Dense(351, activation='softmax')(l_flat)\n",
    "\n",
    "model = Model(sequence_input, preds)\n",
    "adam = Adam(lr=0.0003)\n",
    "model.compile(loss='categorical_crossentropy',\n",
    "              optimizer=adam,\n",
    "              metrics=['acc'])"
   ]
  },
  {
   "cell_type": "code",
   "execution_count": 64,
   "metadata": {},
   "outputs": [
    {
     "name": "stdout",
     "output_type": "stream",
     "text": [
      "Model: \"model_2\"\n",
      "__________________________________________________________________________________________________\n",
      "Layer (type)                    Output Shape         Param #     Connected to                     \n",
      "==================================================================================================\n",
      "input_2 (InputLayer)            (None, 24)           0                                            \n",
      "__________________________________________________________________________________________________\n",
      "embedding_3 (Embedding)         (None, 24, 300)      1581900     input_2[0][0]                    \n",
      "__________________________________________________________________________________________________\n",
      "embedding_4 (Embedding)         (None, 24, 300)      1581900     input_2[0][0]                    \n",
      "__________________________________________________________________________________________________\n",
      "spatial_dropout1d_3 (SpatialDro (None, 24, 300)      0           embedding_3[0][0]                \n",
      "__________________________________________________________________________________________________\n",
      "spatial_dropout1d_4 (SpatialDro (None, 24, 300)      0           embedding_4[0][0]                \n",
      "__________________________________________________________________________________________________\n",
      "reshape_3 (Reshape)             (None, 24, 300, 1)   0           spatial_dropout1d_3[0][0]        \n",
      "__________________________________________________________________________________________________\n",
      "reshape_4 (Reshape)             (None, 24, 300, 1)   0           spatial_dropout1d_4[0][0]        \n",
      "__________________________________________________________________________________________________\n",
      "conv2d_7 (Conv2D)               (None, 24, 1, 128)   38528       reshape_3[0][0]                  \n",
      "__________________________________________________________________________________________________\n",
      "conv2d_8 (Conv2D)               (None, 24, 1, 128)   38528       reshape_4[0][0]                  \n",
      "__________________________________________________________________________________________________\n",
      "conv2d_9 (Conv2D)               (None, 23, 1, 128)   76928       reshape_3[0][0]                  \n",
      "__________________________________________________________________________________________________\n",
      "conv2d_10 (Conv2D)              (None, 23, 1, 128)   76928       reshape_4[0][0]                  \n",
      "__________________________________________________________________________________________________\n",
      "conv2d_11 (Conv2D)              (None, 22, 1, 128)   115328      reshape_3[0][0]                  \n",
      "__________________________________________________________________________________________________\n",
      "conv2d_12 (Conv2D)              (None, 22, 1, 128)   115328      reshape_4[0][0]                  \n",
      "__________________________________________________________________________________________________\n",
      "max_pooling2d_7 (MaxPooling2D)  (None, 1, 1, 128)    0           conv2d_7[0][0]                   \n",
      "__________________________________________________________________________________________________\n",
      "max_pooling2d_8 (MaxPooling2D)  (None, 1, 1, 128)    0           conv2d_8[0][0]                   \n",
      "__________________________________________________________________________________________________\n",
      "max_pooling2d_9 (MaxPooling2D)  (None, 1, 1, 128)    0           conv2d_9[0][0]                   \n",
      "__________________________________________________________________________________________________\n",
      "max_pooling2d_10 (MaxPooling2D) (None, 1, 1, 128)    0           conv2d_10[0][0]                  \n",
      "__________________________________________________________________________________________________\n",
      "max_pooling2d_11 (MaxPooling2D) (None, 1, 1, 128)    0           conv2d_11[0][0]                  \n",
      "__________________________________________________________________________________________________\n",
      "max_pooling2d_12 (MaxPooling2D) (None, 1, 1, 128)    0           conv2d_12[0][0]                  \n",
      "__________________________________________________________________________________________________\n",
      "dropout_7 (Dropout)             (None, 1, 1, 128)    0           max_pooling2d_7[0][0]            \n",
      "__________________________________________________________________________________________________\n",
      "dropout_8 (Dropout)             (None, 1, 1, 128)    0           max_pooling2d_8[0][0]            \n",
      "__________________________________________________________________________________________________\n",
      "dropout_9 (Dropout)             (None, 1, 1, 128)    0           max_pooling2d_9[0][0]            \n",
      "__________________________________________________________________________________________________\n",
      "dropout_10 (Dropout)            (None, 1, 1, 128)    0           max_pooling2d_10[0][0]           \n",
      "__________________________________________________________________________________________________\n",
      "dropout_11 (Dropout)            (None, 1, 1, 128)    0           max_pooling2d_11[0][0]           \n",
      "__________________________________________________________________________________________________\n",
      "dropout_12 (Dropout)            (None, 1, 1, 128)    0           max_pooling2d_12[0][0]           \n",
      "__________________________________________________________________________________________________\n",
      "concatenate_2 (Concatenate)     (None, 6, 1, 128)    0           dropout_7[0][0]                  \n",
      "                                                                 dropout_8[0][0]                  \n",
      "                                                                 dropout_9[0][0]                  \n",
      "                                                                 dropout_10[0][0]                 \n",
      "                                                                 dropout_11[0][0]                 \n",
      "                                                                 dropout_12[0][0]                 \n",
      "__________________________________________________________________________________________________\n",
      "flatten_2 (Flatten)             (None, 768)          0           concatenate_2[0][0]              \n",
      "__________________________________________________________________________________________________\n",
      "dense_2 (Dense)                 (None, 351)          269919      flatten_2[0][0]                  \n",
      "==================================================================================================\n",
      "Total params: 3,895,287\n",
      "Trainable params: 2,313,387\n",
      "Non-trainable params: 1,581,900\n",
      "__________________________________________________________________________________________________\n"
     ]
    }
   ],
   "source": [
    "model.summary()"
   ]
  },
  {
   "cell_type": "code",
   "execution_count": 65,
   "metadata": {},
   "outputs": [
    {
     "data": {
      "image/png": "[encoded data removed]",
      "text/plain": [
       "<IPython.core.display.Image object>"
      ]
     },
     "execution_count": 65,
     "metadata": {},
     "output_type": "execute_result"
    }
   ],
   "source": [
    "from keras.utils import plot_model\n",
    "plot_model(model, to_file='text_cnn.png')"
   ]
  },
  {
   "cell_type": "code",
   "execution_count": 66,
   "metadata": {},
   "outputs": [],
   "source": [
    "y_integers = np.argmax(y_train, axis=1)\n",
    "class_weights = class_weight.compute_class_weight('balanced', np.unique(y_integers), y_integers)\n",
    "d_class_weights = dict(enumerate(class_weights))"
   ]
  },
  {
   "cell_type": "code",
   "execution_count": 67,
   "metadata": {},
   "outputs": [],
   "source": [
    "y_classes = np.argmax(y_train, axis=1)\n",
    "\n",
    "from sklearn.preprocessing import LabelEncoder\n",
    "\n",
    "# Instantiate the label encoder\n",
    "le = LabelEncoder()\n",
    "\n",
    "# Fit the label encoder to our label series\n",
    "le.fit(list(y_classes))\n",
    "\n",
    "# Create integer based labels Series\n",
    "y_integers = le.transform(list(y_classes))\n",
    "\n",
    "# Create dict of labels : integer representation\n",
    "labels_and_integers = dict(zip(y_classes, y_integers))\n",
    "\n",
    "from sklearn.utils.class_weight import compute_class_weight, compute_sample_weight\n",
    "\n",
    "class_weights = compute_class_weight('balanced', np.unique(y_integers), y_integers)\n",
    "sample_weights = compute_sample_weight('balanced', y_integers)\n",
    "\n",
    "class_weights_dict = dict(zip(le.transform(list(le.classes_)), class_weights))"
   ]
  },
  {
   "cell_type": "code",
   "execution_count": 68,
   "metadata": {},
   "outputs": [],
   "source": [
    "from keras.callbacks import LearningRateScheduler\n",
    "def initial_boost(epoch):\n",
    "    #if epoch==0: return float(0.03)\n",
    "    #elif epoch==1: return float(0.01)\n",
    "    #elif epoch==2: return float(0.003)\n",
    "    #elif epoch==3: return float(0.001)\n",
    "    #else: return float(0.001)\n",
    "    return float(0.001)\n",
    "\n",
    "lr_schedule = LearningRateScheduler(initial_boost)"
   ]
  },
  {
   "cell_type": "code",
   "execution_count": 69,
   "metadata": {},
   "outputs": [
    {
     "name": "stdout",
     "output_type": "stream",
     "text": [
      "Train on 17087 samples, validate on 3016 samples\n",
      "Epoch 1/200\n",
      "17087/17087 [==============================] - 21s 1ms/step - loss: 5.8662 - acc: 0.0058 - val_loss: 5.7342 - val_acc: 0.0607\n",
      "\n",
      "Epoch 00001: val_acc improved from -inf to 0.06068, saving model to text_cnn.hdf5\n",
      "Epoch 2/200\n",
      "17087/17087 [==============================] - 17s 1ms/step - loss: 5.6589 - acc: 0.0348 - val_loss: 5.5558 - val_acc: 0.1330\n",
      "\n",
      "Epoch 00002: val_acc improved from 0.06068 to 0.13296, saving model to text_cnn.hdf5\n",
      "Epoch 3/200\n",
      "17087/17087 [==============================] - 18s 1ms/step - loss: 5.4339 - acc: 0.0906 - val_loss: 5.2017 - val_acc: 0.1671\n",
      "\n",
      "Epoch 00003: val_acc improved from 0.13296 to 0.16711, saving model to text_cnn.hdf5\n",
      "Epoch 4/200\n",
      "17087/17087 [==============================] - 17s 1000us/step - loss: 5.0768 - acc: 0.1526 - val_loss: 4.6552 - val_acc: 0.2712\n",
      "\n",
      "Epoch 00004: val_acc improved from 0.16711 to 0.27122, saving model to text_cnn.hdf5\n",
      "Epoch 5/200\n",
      "17087/17087 [==============================] - 18s 1ms/step - loss: 4.5628 - acc: 0.2232 - val_loss: 4.0820 - val_acc: 0.3216\n",
      "\n",
      "Epoch 00005: val_acc improved from 0.27122 to 0.32162, saving model to text_cnn.hdf5\n",
      "Epoch 6/200\n",
      "17087/17087 [==============================] - 18s 1ms/step - loss: 3.9845 - acc: 0.2778 - val_loss: 3.5061 - val_acc: 0.3720\n",
      "\n",
      "Epoch 00006: val_acc improved from 0.32162 to 0.37202, saving model to text_cnn.hdf5\n",
      "Epoch 7/200\n",
      "17087/17087 [==============================] - 18s 1ms/step - loss: 3.3411 - acc: 0.3353 - val_loss: 2.9923 - val_acc: 0.4158\n",
      "\n",
      "Epoch 00007: val_acc improved from 0.37202 to 0.41578, saving model to text_cnn.hdf5\n",
      "Epoch 8/200\n",
      "17087/17087 [==============================] - 17s 994us/step - loss: 2.7948 - acc: 0.3886 - val_loss: 2.6298 - val_acc: 0.4645\n",
      "\n",
      "Epoch 00008: val_acc improved from 0.41578 to 0.46452, saving model to text_cnn.hdf5\n",
      "Epoch 9/200\n",
      "17087/17087 [==============================] - 17s 978us/step - loss: 2.3312 - acc: 0.4448 - val_loss: 2.3269 - val_acc: 0.4887\n",
      "\n",
      "Epoch 00009: val_acc improved from 0.46452 to 0.48873, saving model to text_cnn.hdf5\n",
      "Epoch 10/200\n",
      "17087/17087 [==============================] - 17s 1ms/step - loss: 1.9613 - acc: 0.4875 - val_loss: 2.0383 - val_acc: 0.5365\n",
      "\n",
      "Epoch 00010: val_acc improved from 0.48873 to 0.53647, saving model to text_cnn.hdf5\n",
      "Epoch 11/200\n",
      "17087/17087 [==============================] - 17s 1ms/step - loss: 1.6790 - acc: 0.5316 - val_loss: 1.8563 - val_acc: 0.5640\n",
      "\n",
      "Epoch 00011: val_acc improved from 0.53647 to 0.56399, saving model to text_cnn.hdf5\n",
      "Epoch 12/200\n",
      "17087/17087 [==============================] - 17s 1ms/step - loss: 1.4359 - acc: 0.5715 - val_loss: 1.6498 - val_acc: 0.6141\n",
      "\n",
      "Epoch 00012: val_acc improved from 0.56399 to 0.61406, saving model to text_cnn.hdf5\n",
      "Epoch 13/200\n",
      "17087/17087 [==============================] - 17s 983us/step - loss: 1.2641 - acc: 0.5992 - val_loss: 1.5566 - val_acc: 0.6200\n",
      "\n",
      "Epoch 00013: val_acc improved from 0.61406 to 0.62003, saving model to text_cnn.hdf5\n",
      "Epoch 14/200\n",
      "17087/17087 [==============================] - 18s 1ms/step - loss: 1.0963 - acc: 0.6327 - val_loss: 1.4433 - val_acc: 0.6429\n",
      "\n",
      "Epoch 00014: val_acc improved from 0.62003 to 0.64290, saving model to text_cnn.hdf5\n",
      "Epoch 15/200\n",
      "17087/17087 [==============================] - 17s 991us/step - loss: 0.9749 - acc: 0.6543 - val_loss: 1.3806 - val_acc: 0.6605\n",
      "\n",
      "Epoch 00015: val_acc improved from 0.64290 to 0.66048, saving model to text_cnn.hdf5\n",
      "Epoch 16/200\n",
      "17087/17087 [==============================] - 17s 1ms/step - loss: 0.8659 - acc: 0.6781 - val_loss: 1.3223 - val_acc: 0.6655\n",
      "\n",
      "Epoch 00016: val_acc improved from 0.66048 to 0.66545, saving model to text_cnn.hdf5\n",
      "Epoch 17/200\n",
      "17087/17087 [==============================] - 16s 965us/step - loss: 0.7947 - acc: 0.6926 - val_loss: 1.2544 - val_acc: 0.6880\n",
      "\n",
      "Epoch 00017: val_acc improved from 0.66545 to 0.68800, saving model to text_cnn.hdf5\n",
      "Epoch 18/200\n",
      "17087/17087 [==============================] - 18s 1ms/step - loss: 0.7038 - acc: 0.7204 - val_loss: 1.1965 - val_acc: 0.6963\n",
      "\n",
      "Epoch 00018: val_acc improved from 0.68800 to 0.69629, saving model to text_cnn.hdf5\n",
      "Epoch 19/200\n",
      "17087/17087 [==============================] - 18s 1ms/step - loss: 0.6554 - acc: 0.7321 - val_loss: 1.1663 - val_acc: 0.6976\n",
      "\n",
      "Epoch 00019: val_acc improved from 0.69629 to 0.69761, saving model to text_cnn.hdf5\n",
      "Epoch 20/200\n",
      "17087/17087 [==============================] - 17s 988us/step - loss: 0.5985 - acc: 0.7459 - val_loss: 1.1226 - val_acc: 0.7122\n",
      "\n",
      "Epoch 00020: val_acc improved from 0.69761 to 0.71220, saving model to text_cnn.hdf5\n",
      "Epoch 21/200\n",
      "17087/17087 [==============================] - 17s 995us/step - loss: 0.5405 - acc: 0.7612 - val_loss: 1.1162 - val_acc: 0.7069\n",
      "\n",
      "Epoch 00021: val_acc did not improve from 0.71220\n",
      "Epoch 22/200\n",
      "17087/17087 [==============================] - 16s 964us/step - loss: 0.5076 - acc: 0.7711 - val_loss: 1.0833 - val_acc: 0.7172\n",
      "\n",
      "Epoch 00022: val_acc improved from 0.71220 to 0.71718, saving model to text_cnn.hdf5\n",
      "Epoch 23/200\n",
      "17087/17087 [==============================] - 18s 1ms/step - loss: 0.4754 - acc: 0.7763 - val_loss: 1.0652 - val_acc: 0.7215\n",
      "\n",
      "Epoch 00023: val_acc improved from 0.71718 to 0.72149, saving model to text_cnn.hdf5\n",
      "Epoch 24/200\n",
      "17087/17087 [==============================] - 17s 1ms/step - loss: 0.4452 - acc: 0.7924 - val_loss: 1.0166 - val_acc: 0.7311\n",
      "\n",
      "Epoch 00024: val_acc improved from 0.72149 to 0.73110, saving model to text_cnn.hdf5\n",
      "Epoch 25/200\n",
      "17087/17087 [==============================] - 17s 1ms/step - loss: 0.4132 - acc: 0.8053 - val_loss: 1.0179 - val_acc: 0.7331\n",
      "\n",
      "Epoch 00025: val_acc improved from 0.73110 to 0.73309, saving model to text_cnn.hdf5\n",
      "Epoch 26/200\n",
      "17087/17087 [==============================] - 17s 1ms/step - loss: 0.3882 - acc: 0.8041 - val_loss: 1.0002 - val_acc: 0.7344\n",
      "\n",
      "Epoch 00026: val_acc improved from 0.73309 to 0.73442, saving model to text_cnn.hdf5\n",
      "Epoch 27/200\n",
      "17087/17087 [==============================] - 18s 1ms/step - loss: 0.3755 - acc: 0.8088 - val_loss: 0.9782 - val_acc: 0.7430\n",
      "\n",
      "Epoch 00027: val_acc improved from 0.73442 to 0.74304, saving model to text_cnn.hdf5\n",
      "Epoch 28/200\n",
      "17087/17087 [==============================] - 17s 995us/step - loss: 0.3437 - acc: 0.8188 - val_loss: 0.9815 - val_acc: 0.7424\n",
      "\n",
      "Epoch 00028: val_acc did not improve from 0.74304\n",
      "Epoch 29/200\n",
      "17087/17087 [==============================] - 17s 1ms/step - loss: 0.3313 - acc: 0.8262 - val_loss: 0.9530 - val_acc: 0.7457\n",
      "\n",
      "Epoch 00029: val_acc improved from 0.74304 to 0.74569, saving model to text_cnn.hdf5\n",
      "Epoch 30/200\n",
      "17087/17087 [==============================] - 18s 1ms/step - loss: 0.3256 - acc: 0.8298 - val_loss: 0.9439 - val_acc: 0.7510\n",
      "\n",
      "Epoch 00030: val_acc improved from 0.74569 to 0.75099, saving model to text_cnn.hdf5\n",
      "Epoch 31/200\n",
      "17087/17087 [==============================] - 17s 993us/step - loss: 0.2998 - acc: 0.8370 - val_loss: 0.9339 - val_acc: 0.7540\n",
      "\n",
      "Epoch 00031: val_acc improved from 0.75099 to 0.75398, saving model to text_cnn.hdf5\n",
      "Epoch 32/200\n",
      "17087/17087 [==============================] - 17s 1ms/step - loss: 0.2904 - acc: 0.8423 - val_loss: 0.9227 - val_acc: 0.7566\n",
      "\n",
      "Epoch 00032: val_acc improved from 0.75398 to 0.75663, saving model to text_cnn.hdf5\n",
      "Epoch 33/200\n",
      "17087/17087 [==============================] - 17s 995us/step - loss: 0.2767 - acc: 0.8501 - val_loss: 0.9187 - val_acc: 0.7646\n",
      "\n",
      "Epoch 00033: val_acc improved from 0.75663 to 0.76459, saving model to text_cnn.hdf5\n",
      "Epoch 34/200\n",
      "17087/17087 [==============================] - 18s 1ms/step - loss: 0.2588 - acc: 0.8557 - val_loss: 0.9176 - val_acc: 0.7662\n",
      "\n",
      "Epoch 00034: val_acc improved from 0.76459 to 0.76625, saving model to text_cnn.hdf5\n",
      "Epoch 35/200\n",
      "17087/17087 [==============================] - 18s 1ms/step - loss: 0.2531 - acc: 0.8558 - val_loss: 0.9041 - val_acc: 0.7699\n",
      "\n",
      "Epoch 00035: val_acc improved from 0.76625 to 0.76989, saving model to text_cnn.hdf5\n",
      "Epoch 36/200\n",
      "17087/17087 [==============================] - 17s 1ms/step - loss: 0.2421 - acc: 0.8594 - val_loss: 0.9067 - val_acc: 0.7745\n",
      "\n",
      "Epoch 00036: val_acc improved from 0.76989 to 0.77454, saving model to text_cnn.hdf5\n",
      "Epoch 37/200\n",
      "17087/17087 [==============================] - 17s 998us/step - loss: 0.2385 - acc: 0.8644 - val_loss: 0.9191 - val_acc: 0.7702\n",
      "\n",
      "Epoch 00037: val_acc did not improve from 0.77454\n",
      "Epoch 38/200\n",
      "17087/17087 [==============================] - 17s 1ms/step - loss: 0.2276 - acc: 0.8631 - val_loss: 0.9054 - val_acc: 0.7772\n",
      "\n",
      "Epoch 00038: val_acc improved from 0.77454 to 0.77719, saving model to text_cnn.hdf5\n",
      "Epoch 39/200\n",
      "17087/17087 [==============================] - 17s 996us/step - loss: 0.2182 - acc: 0.8679 - val_loss: 0.8969 - val_acc: 0.7732\n",
      "\n",
      "Epoch 00039: val_acc did not improve from 0.77719\n",
      "Epoch 40/200\n",
      "17087/17087 [==============================] - 17s 974us/step - loss: 0.2101 - acc: 0.8760 - val_loss: 0.8953 - val_acc: 0.7815\n",
      "\n",
      "Epoch 00040: val_acc improved from 0.77719 to 0.78150, saving model to text_cnn.hdf5\n",
      "Epoch 41/200\n",
      "17087/17087 [==============================] - 17s 1ms/step - loss: 0.2063 - acc: 0.8784 - val_loss: 0.8987 - val_acc: 0.7792\n",
      "\n",
      "Epoch 00041: val_acc did not improve from 0.78150\n",
      "Epoch 42/200\n",
      "17087/17087 [==============================] - 17s 1000us/step - loss: 0.2020 - acc: 0.8704 - val_loss: 0.8885 - val_acc: 0.7818\n",
      "\n",
      "Epoch 00042: val_acc improved from 0.78150 to 0.78183, saving model to text_cnn.hdf5\n",
      "Epoch 43/200\n",
      "17087/17087 [==============================] - 19s 1ms/step - loss: 0.1902 - acc: 0.8809 - val_loss: 0.8871 - val_acc: 0.7885\n",
      "\n",
      "Epoch 00043: val_acc improved from 0.78183 to 0.78846, saving model to text_cnn.hdf5\n",
      "Epoch 44/200\n",
      "17087/17087 [==============================] - 17s 1ms/step - loss: 0.1906 - acc: 0.8817 - val_loss: 0.8895 - val_acc: 0.7822\n",
      "\n",
      "Epoch 00044: val_acc did not improve from 0.78846\n",
      "Epoch 45/200\n",
      "17087/17087 [==============================] - 17s 1ms/step - loss: 0.1788 - acc: 0.8859 - val_loss: 0.8880 - val_acc: 0.7871\n",
      "\n",
      "Epoch 00045: val_acc did not improve from 0.78846\n",
      "Epoch 46/200\n",
      "17087/17087 [==============================] - 18s 1ms/step - loss: 0.1748 - acc: 0.8889 - val_loss: 0.8798 - val_acc: 0.7911\n",
      "\n",
      "Epoch 00046: val_acc improved from 0.78846 to 0.79111, saving model to text_cnn.hdf5\n",
      "Epoch 47/200\n",
      "17087/17087 [==============================] - 21s 1ms/step - loss: 0.1740 - acc: 0.8887 - val_loss: 0.8832 - val_acc: 0.7885\n",
      "\n",
      "Epoch 00047: val_acc did not improve from 0.79111\n",
      "Epoch 48/200\n",
      "17087/17087 [==============================] - 21s 1ms/step - loss: 0.1691 - acc: 0.8896 - val_loss: 0.8801 - val_acc: 0.7858\n",
      "\n",
      "Epoch 00048: val_acc did not improve from 0.79111\n",
      "Epoch 49/200\n",
      "17087/17087 [==============================] - 20s 1ms/step - loss: 0.1652 - acc: 0.8926 - val_loss: 0.8742 - val_acc: 0.7928\n",
      "\n",
      "Epoch 00049: val_acc improved from 0.79111 to 0.79277, saving model to text_cnn.hdf5\n",
      "Epoch 50/200\n",
      "17087/17087 [==============================] - 20s 1ms/step - loss: 0.1598 - acc: 0.8984 - val_loss: 0.8791 - val_acc: 0.7921\n",
      "\n",
      "Epoch 00050: val_acc did not improve from 0.79277\n",
      "Epoch 51/200\n",
      "17087/17087 [==============================] - 19s 1ms/step - loss: 0.1516 - acc: 0.8962 - val_loss: 0.8727 - val_acc: 0.7977\n",
      "\n",
      "Epoch 00051: val_acc improved from 0.79277 to 0.79775, saving model to text_cnn.hdf5\n",
      "Epoch 52/200\n",
      "17087/17087 [==============================] - 20s 1ms/step - loss: 0.1497 - acc: 0.9024 - val_loss: 0.8743 - val_acc: 0.7974\n",
      "\n",
      "Epoch 00052: val_acc did not improve from 0.79775\n",
      "Epoch 53/200\n",
      "17087/17087 [==============================] - 19s 1ms/step - loss: 0.1511 - acc: 0.8990 - val_loss: 0.8788 - val_acc: 0.7968\n",
      "\n",
      "Epoch 00053: val_acc did not improve from 0.79775\n",
      "Epoch 54/200\n",
      "17087/17087 [==============================] - 20s 1ms/step - loss: 0.1455 - acc: 0.9032 - val_loss: 0.8736 - val_acc: 0.7977\n",
      "\n",
      "Epoch 00054: val_acc did not improve from 0.79775\n",
      "Epoch 55/200\n",
      "17087/17087 [==============================] - 20s 1ms/step - loss: 0.1350 - acc: 0.9089 - val_loss: 0.8712 - val_acc: 0.7984\n",
      "\n",
      "Epoch 00055: val_acc improved from 0.79775 to 0.79841, saving model to text_cnn.hdf5\n",
      "Epoch 56/200\n",
      "17087/17087 [==============================] - 25s 1ms/step - loss: 0.1366 - acc: 0.9074 - val_loss: 0.8834 - val_acc: 0.7951\n",
      "\n",
      "Epoch 00056: val_acc did not improve from 0.79841\n",
      "Epoch 57/200\n",
      "17087/17087 [==============================] - 21s 1ms/step - loss: 0.1377 - acc: 0.9074 - val_loss: 0.8728 - val_acc: 0.8014\n",
      "\n",
      "Epoch 00057: val_acc improved from 0.79841 to 0.80139, saving model to text_cnn.hdf5\n",
      "Epoch 58/200\n",
      "17087/17087 [==============================] - 19s 1ms/step - loss: 0.1297 - acc: 0.9123 - val_loss: 0.8754 - val_acc: 0.7981\n",
      "\n",
      "Epoch 00058: val_acc did not improve from 0.80139\n",
      "Epoch 59/200\n",
      "17087/17087 [==============================] - 19s 1ms/step - loss: 0.1257 - acc: 0.9125 - val_loss: 0.8775 - val_acc: 0.8047\n",
      "\n",
      "Epoch 00059: val_acc improved from 0.80139 to 0.80471, saving model to text_cnn.hdf5\n",
      "Epoch 60/200\n",
      "17087/17087 [==============================] - 19s 1ms/step - loss: 0.1215 - acc: 0.9139 - val_loss: 0.8732 - val_acc: 0.8017\n",
      "\n",
      "Epoch 00060: val_acc did not improve from 0.80471\n",
      "Epoch 61/200\n",
      "17087/17087 [==============================] - 27s 2ms/step - loss: 0.1201 - acc: 0.9162 - val_loss: 0.8790 - val_acc: 0.8017\n",
      "\n",
      "Epoch 00061: val_acc did not improve from 0.80471\n",
      "Epoch 62/200\n",
      "17087/17087 [==============================] - 33s 2ms/step - loss: 0.1230 - acc: 0.9153 - val_loss: 0.8838 - val_acc: 0.7954\n",
      "\n",
      "Epoch 00062: val_acc did not improve from 0.80471\n",
      "Epoch 63/200\n",
      "17087/17087 [==============================] - 32s 2ms/step - loss: 0.1187 - acc: 0.9158 - val_loss: 0.8796 - val_acc: 0.8040\n",
      "\n",
      "Epoch 00063: val_acc did not improve from 0.80471\n",
      "\n",
      "Epoch 00063: ReduceLROnPlateau reducing learning rate to 0.0006000000284984708.\n",
      "Epoch 64/200\n",
      "17087/17087 [==============================] - 32s 2ms/step - loss: 0.1197 - acc: 0.9175 - val_loss: 0.8873 - val_acc: 0.8001\n",
      "\n",
      "Epoch 00064: val_acc did not improve from 0.80471\n",
      "Epoch 65/200\n",
      "17087/17087 [==============================] - 32s 2ms/step - loss: 0.1185 - acc: 0.9176 - val_loss: 0.8765 - val_acc: 0.8001\n",
      "\n",
      "Epoch 00065: val_acc did not improve from 0.80471\n",
      "Epoch 00065: early stopping\n",
      "CPU times: user 1h 48min 49s, sys: 45min 23s, total: 2h 34min 13s\n",
      "Wall time: 20min 49s\n"
     ]
    },
    {
     "data": {
      "text/plain": [
       "<keras.callbacks.callbacks.History at 0x7f4540d67090>"
      ]
     },
     "execution_count": 69,
     "metadata": {},
     "output_type": "execute_result"
    }
   ],
   "source": [
    "%%time\n",
    "reduce_lr = ReduceLROnPlateau(monitor='val_acc', factor=0.6, patience=4, verbose=1)\n",
    "early_stopping = EarlyStopping(monitor='val_acc', patience=6, verbose=1)\n",
    "\n",
    "model_checkpoint = ModelCheckpoint('text_cnn.hdf5',\n",
    "                             monitor='val_acc', \n",
    "                             verbose=1, \n",
    "                             save_best_only=True, \n",
    "                             mode='auto')\n",
    "callbacks=[early_stopping,model_checkpoint,reduce_lr,lr_schedule]\n",
    "\n",
    "model.fit(x_train, y_train,\n",
    "          batch_size=512,\n",
    "          epochs=200,\n",
    "          callbacks=callbacks,\n",
    "          validation_data=(x_test, y_test),sample_weight=sample_weights)\n",
    "#,class_weight=d_class_weights"
   ]
  },
  {
   "cell_type": "markdown",
   "metadata": {},
   "source": [
    "### Test"
   ]
  },
  {
   "cell_type": "code",
   "execution_count": 33,
   "metadata": {},
   "outputs": [],
   "source": [
    "from keras.models import load_model\n",
    "model = load_model('text_cnn.hdf5')"
   ]
  },
  {
   "cell_type": "code",
   "execution_count": 70,
   "metadata": {},
   "outputs": [],
   "source": [
    "preds = model.predict(x_test)"
   ]
  },
  {
   "cell_type": "code",
   "execution_count": 71,
   "metadata": {},
   "outputs": [
    {
     "data": {
      "text/plain": [
       "array([207, 219, 284, ..., 315, 131,  52])"
      ]
     },
     "execution_count": 71,
     "metadata": {},
     "output_type": "execute_result"
    }
   ],
   "source": [
    "preds.argmax(axis=-1)"
   ]
  },
  {
   "cell_type": "code",
   "execution_count": 72,
   "metadata": {},
   "outputs": [
    {
     "data": {
      "text/plain": [
       "array([208, 219, 284, ..., 297, 131,  52])"
      ]
     },
     "execution_count": 72,
     "metadata": {},
     "output_type": "execute_result"
    }
   ],
   "source": [
    "y_test.argmax(axis=1)"
   ]
  },
  {
   "cell_type": "code",
   "execution_count": 73,
   "metadata": {},
   "outputs": [
    {
     "data": {
      "text/plain": [
       "array([['294'],\n",
       "       ['303'],\n",
       "       ['39'],\n",
       "       ...,\n",
       "       ['50'],\n",
       "       ['223'],\n",
       "       ['151']], dtype=object)"
      ]
     },
     "execution_count": 73,
     "metadata": {},
     "output_type": "execute_result"
    }
   ],
   "source": [
    "processor.get_class_name(y_test)"
   ]
  },
  {
   "cell_type": "code",
   "execution_count": 74,
   "metadata": {},
   "outputs": [
    {
     "data": {
      "text/plain": [
       "0.7572455625724125"
      ]
     },
     "execution_count": 74,
     "metadata": {},
     "output_type": "execute_result"
    }
   ],
   "source": [
    "from sklearn.metrics import balanced_accuracy_score\n",
    "balanced_accuracy_score(y_test.argmax(axis=1), preds.argmax(axis=-1))"
   ]
  },
  {
   "cell_type": "markdown",
   "metadata": {},
   "source": [
    "# Analysis"
   ]
  },
  {
   "cell_type": "code",
   "execution_count": 39,
   "metadata": {},
   "outputs": [],
   "source": [
    "x_a = processor.transform(df.Pregunta.values)\n",
    "y_a = [str(x[4:]) for x in df.Intencion.values]\n",
    "preds_a = model.predict(x_a)"
   ]
  },
  {
   "cell_type": "code",
   "execution_count": 40,
   "metadata": {},
   "outputs": [
    {
     "data": {
      "text/plain": [
       "array(['102', '350', '132', ..., '192', '218', '56'], dtype=object)"
      ]
     },
     "execution_count": 40,
     "metadata": {},
     "output_type": "execute_result"
    }
   ],
   "source": [
    "processor.get_class_name(preds_a).flatten()"
   ]
  },
  {
   "cell_type": "code",
   "execution_count": 41,
   "metadata": {},
   "outputs": [
    {
     "data": {
      "text/plain": [
       "(20103, 351)"
      ]
     },
     "execution_count": 41,
     "metadata": {},
     "output_type": "execute_result"
    }
   ],
   "source": [
    "preds_a.shape"
   ]
  },
  {
   "cell_type": "code",
   "execution_count": 42,
   "metadata": {},
   "outputs": [],
   "source": [
    "df['pred'] = processor.get_class_name(preds_a).flatten()"
   ]
  },
  {
   "cell_type": "code",
   "execution_count": 43,
   "metadata": {},
   "outputs": [
    {
     "data": {
      "text/html": [
       "<div>\n",
       "<style scoped>\n",
       "    .dataframe tbody tr th:only-of-type {\n",
       "        vertical-align: middle;\n",
       "    }\n",
       "\n",
       "    .dataframe tbody tr th {\n",
       "        vertical-align: top;\n",
       "    }\n",
       "\n",
       "    .dataframe thead th {\n",
       "        text-align: right;\n",
       "    }\n",
       "</style>\n",
       "<table border=\"1\" class=\"dataframe\">\n",
       "  <thead>\n",
       "    <tr style=\"text-align: right;\">\n",
       "      <th></th>\n",
       "      <th>Pregunta</th>\n",
       "      <th>Intencion</th>\n",
       "      <th>pred</th>\n",
       "    </tr>\n",
       "  </thead>\n",
       "  <tbody>\n",
       "    <tr>\n",
       "      <th>0</th>\n",
       "      <td>como puedo trabajar en santander rio</td>\n",
       "      <td>Cat_102</td>\n",
       "      <td>102</td>\n",
       "    </tr>\n",
       "    <tr>\n",
       "      <th>1</th>\n",
       "      <td>pagar tarjeta visa querer reintegro</td>\n",
       "      <td>Cat_350</td>\n",
       "      <td>350</td>\n",
       "    </tr>\n",
       "    <tr>\n",
       "      <th>2</th>\n",
       "      <td>pagar tarjeta naranja sistema</td>\n",
       "      <td>Cat_132</td>\n",
       "      <td>132</td>\n",
       "    </tr>\n",
       "    <tr>\n",
       "      <th>3</th>\n",
       "      <td>no se debitó la primera cuota del plan de bien...</td>\n",
       "      <td>Cat_129</td>\n",
       "      <td>129</td>\n",
       "    </tr>\n",
       "    <tr>\n",
       "      <th>4</th>\n",
       "      <td>abonar tarjeta credito</td>\n",
       "      <td>Cat_342</td>\n",
       "      <td>342</td>\n",
       "    </tr>\n",
       "  </tbody>\n",
       "</table>\n",
       "</div>"
      ],
      "text/plain": [
       "                                            Pregunta Intencion pred\n",
       "0               como puedo trabajar en santander rio   Cat_102  102\n",
       "1                pagar tarjeta visa querer reintegro   Cat_350  350\n",
       "2                      pagar tarjeta naranja sistema   Cat_132  132\n",
       "3  no se debitó la primera cuota del plan de bien...   Cat_129  129\n",
       "4                             abonar tarjeta credito   Cat_342  342"
      ]
     },
     "execution_count": 43,
     "metadata": {},
     "output_type": "execute_result"
    }
   ],
   "source": [
    "df.head()"
   ]
  },
  {
   "cell_type": "code",
   "execution_count": 44,
   "metadata": {},
   "outputs": [
    {
     "data": {
      "text/plain": [
       "Cat_223    47\n",
       "Cat_39     31\n",
       "Cat_129    30\n",
       "Cat_225    30\n",
       "Cat_132    28\n",
       "           ..\n",
       "Cat_46      1\n",
       "Cat_196     1\n",
       "Cat_12      1\n",
       "Cat_148     1\n",
       "Cat_357     1\n",
       "Name: Intencion, Length: 222, dtype: int64"
      ]
     },
     "execution_count": 44,
     "metadata": {},
     "output_type": "execute_result"
    }
   ],
   "source": [
    "df[y_a != processor.get_class_name(preds_a).flatten()].Intencion.value_counts()"
   ]
  },
  {
   "cell_type": "code",
   "execution_count": 62,
   "metadata": {},
   "outputs": [
    {
     "data": {
      "text/plain": [
       "2020                              cuanto tenía preacordado\n",
       "4463                                 necesito un prendario\n",
       "9638         yo soy cliente y quiero un préstamo prendario\n",
       "11551    queria consultar si podria sacar un prestamo p...\n",
       "15265    queria consultar si podria sacar un prestamo p...\n",
       "16419        yo soy cliente y quiero un préstamo prendario\n",
       "17265    solo queria saber si tengo algún préstamo prea...\n",
       "18619                                necesito un prendario\n",
       "Name: Pregunta, dtype: object"
      ]
     },
     "execution_count": 62,
     "metadata": {},
     "output_type": "execute_result"
    }
   ],
   "source": [
    "df[(df.Intencion == 'Cat_223') & (df.pred == '225')].Pregunta"
   ]
  },
  {
   "cell_type": "code",
   "execution_count": 46,
   "metadata": {},
   "outputs": [
    {
     "data": {
      "text/html": [
       "<div>\n",
       "<style scoped>\n",
       "    .dataframe tbody tr th:only-of-type {\n",
       "        vertical-align: middle;\n",
       "    }\n",
       "\n",
       "    .dataframe tbody tr th {\n",
       "        vertical-align: top;\n",
       "    }\n",
       "\n",
       "    .dataframe thead th {\n",
       "        text-align: right;\n",
       "    }\n",
       "</style>\n",
       "<table border=\"1\" class=\"dataframe\">\n",
       "  <thead>\n",
       "    <tr style=\"text-align: right;\">\n",
       "      <th></th>\n",
       "      <th>Pregunta</th>\n",
       "      <th>Intencion</th>\n",
       "      <th>pred</th>\n",
       "    </tr>\n",
       "  </thead>\n",
       "  <tbody>\n",
       "    <tr>\n",
       "      <th>52</th>\n",
       "      <td>quisiera saber si estan otorgando creditos per...</td>\n",
       "      <td>Cat_225</td>\n",
       "      <td>225</td>\n",
       "    </tr>\n",
       "    <tr>\n",
       "      <th>80</th>\n",
       "      <td>ccredito personal</td>\n",
       "      <td>Cat_225</td>\n",
       "      <td>223</td>\n",
       "    </tr>\n",
       "    <tr>\n",
       "      <th>109</th>\n",
       "      <td>ccredito preacordado</td>\n",
       "      <td>Cat_225</td>\n",
       "      <td>225</td>\n",
       "    </tr>\n",
       "    <tr>\n",
       "      <th>206</th>\n",
       "      <td>quisiera saber sobre creditos personales</td>\n",
       "      <td>Cat_225</td>\n",
       "      <td>225</td>\n",
       "    </tr>\n",
       "    <tr>\n",
       "      <th>405</th>\n",
       "      <td>¿podrías darme información sobre los préstamos...</td>\n",
       "      <td>Cat_225</td>\n",
       "      <td>225</td>\n",
       "    </tr>\n",
       "    <tr>\n",
       "      <th>...</th>\n",
       "      <td>...</td>\n",
       "      <td>...</td>\n",
       "      <td>...</td>\n",
       "    </tr>\n",
       "    <tr>\n",
       "      <th>19640</th>\n",
       "      <td>cuales son los terminos y condiciones del pres...</td>\n",
       "      <td>Cat_225</td>\n",
       "      <td>225</td>\n",
       "    </tr>\n",
       "    <tr>\n",
       "      <th>19707</th>\n",
       "      <td>el prestamo personal puede ser en dolares?</td>\n",
       "      <td>Cat_225</td>\n",
       "      <td>225</td>\n",
       "    </tr>\n",
       "    <tr>\n",
       "      <th>19723</th>\n",
       "      <td>si saco el préstamo van a hipotecar la casa en...</td>\n",
       "      <td>Cat_225</td>\n",
       "      <td>225</td>\n",
       "    </tr>\n",
       "    <tr>\n",
       "      <th>19930</th>\n",
       "      <td>quiero hacer una consulta sobre los prestamos ...</td>\n",
       "      <td>Cat_225</td>\n",
       "      <td>225</td>\n",
       "    </tr>\n",
       "    <tr>\n",
       "      <th>20005</th>\n",
       "      <td>de que se trata procrear?</td>\n",
       "      <td>Cat_225</td>\n",
       "      <td>225</td>\n",
       "    </tr>\n",
       "  </tbody>\n",
       "</table>\n",
       "<p>356 rows × 3 columns</p>\n",
       "</div>"
      ],
      "text/plain": [
       "                                                Pregunta Intencion pred\n",
       "52     quisiera saber si estan otorgando creditos per...   Cat_225  225\n",
       "80                                     ccredito personal   Cat_225  223\n",
       "109                                 ccredito preacordado   Cat_225  225\n",
       "206             quisiera saber sobre creditos personales   Cat_225  225\n",
       "405    ¿podrías darme información sobre los préstamos...   Cat_225  225\n",
       "...                                                  ...       ...  ...\n",
       "19640  cuales son los terminos y condiciones del pres...   Cat_225  225\n",
       "19707         el prestamo personal puede ser en dolares?   Cat_225  225\n",
       "19723  si saco el préstamo van a hipotecar la casa en...   Cat_225  225\n",
       "19930  quiero hacer una consulta sobre los prestamos ...   Cat_225  225\n",
       "20005                          de que se trata procrear?   Cat_225  225\n",
       "\n",
       "[356 rows x 3 columns]"
      ]
     },
     "execution_count": 46,
     "metadata": {},
     "output_type": "execute_result"
    }
   ],
   "source": [
    "df[df.Intencion == 'Cat_225']"
   ]
  },
  {
   "cell_type": "code",
   "execution_count": 47,
   "metadata": {},
   "outputs": [
    {
     "data": {
      "text/html": [
       "<div>\n",
       "<style scoped>\n",
       "    .dataframe tbody tr th:only-of-type {\n",
       "        vertical-align: middle;\n",
       "    }\n",
       "\n",
       "    .dataframe tbody tr th {\n",
       "        vertical-align: top;\n",
       "    }\n",
       "\n",
       "    .dataframe thead th {\n",
       "        text-align: right;\n",
       "    }\n",
       "</style>\n",
       "<table border=\"1\" class=\"dataframe\">\n",
       "  <thead>\n",
       "    <tr style=\"text-align: right;\">\n",
       "      <th></th>\n",
       "      <th>Pregunta</th>\n",
       "      <th>Intencion</th>\n",
       "      <th>pred</th>\n",
       "    </tr>\n",
       "  </thead>\n",
       "  <tbody>\n",
       "    <tr>\n",
       "      <th>142</th>\n",
       "      <td>entre a trabajar hace dos meses puedo solicita...</td>\n",
       "      <td>Cat_248</td>\n",
       "      <td>242</td>\n",
       "    </tr>\n",
       "    <tr>\n",
       "      <th>3134</th>\n",
       "      <td>puedo obtener un préstamo soy cliente del banco</td>\n",
       "      <td>Cat_248</td>\n",
       "      <td>218</td>\n",
       "    </tr>\n",
       "    <tr>\n",
       "      <th>3479</th>\n",
       "      <td>puedo obtener un préstamo soy cliente del banco</td>\n",
       "      <td>Cat_248</td>\n",
       "      <td>218</td>\n",
       "    </tr>\n",
       "    <tr>\n",
       "      <th>3816</th>\n",
       "      <td>que necesito para tener ccredito</td>\n",
       "      <td>Cat_248</td>\n",
       "      <td>247</td>\n",
       "    </tr>\n",
       "    <tr>\n",
       "      <th>5154</th>\n",
       "      <td>quiero saber si me pueden dar credito</td>\n",
       "      <td>Cat_248</td>\n",
       "      <td>225</td>\n",
       "    </tr>\n",
       "    <tr>\n",
       "      <th>5465</th>\n",
       "      <td>puedo sacar el credito prendario?</td>\n",
       "      <td>Cat_248</td>\n",
       "      <td>256</td>\n",
       "    </tr>\n",
       "    <tr>\n",
       "      <th>5718</th>\n",
       "      <td>que miran para saber si puedo sacar un hipotec...</td>\n",
       "      <td>Cat_248</td>\n",
       "      <td>236</td>\n",
       "    </tr>\n",
       "    <tr>\n",
       "      <th>6049</th>\n",
       "      <td>uno de aaños puede sacar ccredito a aaños?</td>\n",
       "      <td>Cat_248</td>\n",
       "      <td>242</td>\n",
       "    </tr>\n",
       "    <tr>\n",
       "      <th>7862</th>\n",
       "      <td>quisiera saber si me pueden dar un préstamo</td>\n",
       "      <td>Cat_248</td>\n",
       "      <td>225</td>\n",
       "    </tr>\n",
       "    <tr>\n",
       "      <th>8114</th>\n",
       "      <td>dan préstamos</td>\n",
       "      <td>Cat_248</td>\n",
       "      <td>218</td>\n",
       "    </tr>\n",
       "    <tr>\n",
       "      <th>8550</th>\n",
       "      <td>puedo sacar un préstamo.personal</td>\n",
       "      <td>Cat_248</td>\n",
       "      <td>223</td>\n",
       "    </tr>\n",
       "    <tr>\n",
       "      <th>8959</th>\n",
       "      <td>quiero un prestamo¿necesito ser cliente?</td>\n",
       "      <td>Cat_248</td>\n",
       "      <td>39</td>\n",
       "    </tr>\n",
       "    <tr>\n",
       "      <th>9185</th>\n",
       "      <td>cuales son las condiciones para acceder al ccr...</td>\n",
       "      <td>Cat_248</td>\n",
       "      <td>218</td>\n",
       "    </tr>\n",
       "    <tr>\n",
       "      <th>9369</th>\n",
       "      <td>quiero saber si me dan un prestamo</td>\n",
       "      <td>Cat_248</td>\n",
       "      <td>225</td>\n",
       "    </tr>\n",
       "    <tr>\n",
       "      <th>10850</th>\n",
       "      <td>necsito saber si puedo sacar un prestamo</td>\n",
       "      <td>Cat_248</td>\n",
       "      <td>223</td>\n",
       "    </tr>\n",
       "    <tr>\n",
       "      <th>14863</th>\n",
       "      <td>quiero saber si puedo tener préstamo personal</td>\n",
       "      <td>Cat_248</td>\n",
       "      <td>218</td>\n",
       "    </tr>\n",
       "    <tr>\n",
       "      <th>15943</th>\n",
       "      <td>a quien dan prestamos</td>\n",
       "      <td>Cat_248</td>\n",
       "      <td>218</td>\n",
       "    </tr>\n",
       "    <tr>\n",
       "      <th>16685</th>\n",
       "      <td>no me podrias decir si puedo sacar el prestamo</td>\n",
       "      <td>Cat_248</td>\n",
       "      <td>197</td>\n",
       "    </tr>\n",
       "    <tr>\n",
       "      <th>16948</th>\n",
       "      <td>puedo sacar el credito prendario?</td>\n",
       "      <td>Cat_248</td>\n",
       "      <td>256</td>\n",
       "    </tr>\n",
       "    <tr>\n",
       "      <th>17315</th>\n",
       "      <td>quiero saber si me pueden dar credito</td>\n",
       "      <td>Cat_248</td>\n",
       "      <td>225</td>\n",
       "    </tr>\n",
       "    <tr>\n",
       "      <th>17887</th>\n",
       "      <td>puedo sacar un préstamo.personal</td>\n",
       "      <td>Cat_248</td>\n",
       "      <td>223</td>\n",
       "    </tr>\n",
       "    <tr>\n",
       "      <th>18289</th>\n",
       "      <td>se puede pedir un préstamo siendo monotributista</td>\n",
       "      <td>Cat_248</td>\n",
       "      <td>249</td>\n",
       "    </tr>\n",
       "    <tr>\n",
       "      <th>19124</th>\n",
       "      <td>dan préstamos</td>\n",
       "      <td>Cat_248</td>\n",
       "      <td>218</td>\n",
       "    </tr>\n",
       "  </tbody>\n",
       "</table>\n",
       "</div>"
      ],
      "text/plain": [
       "                                                Pregunta Intencion pred\n",
       "142    entre a trabajar hace dos meses puedo solicita...   Cat_248  242\n",
       "3134     puedo obtener un préstamo soy cliente del banco   Cat_248  218\n",
       "3479     puedo obtener un préstamo soy cliente del banco   Cat_248  218\n",
       "3816                    que necesito para tener ccredito   Cat_248  247\n",
       "5154               quiero saber si me pueden dar credito   Cat_248  225\n",
       "5465                   puedo sacar el credito prendario?   Cat_248  256\n",
       "5718   que miran para saber si puedo sacar un hipotec...   Cat_248  236\n",
       "6049          uno de aaños puede sacar ccredito a aaños?   Cat_248  242\n",
       "7862         quisiera saber si me pueden dar un préstamo   Cat_248  225\n",
       "8114                                       dan préstamos   Cat_248  218\n",
       "8550                    puedo sacar un préstamo.personal   Cat_248  223\n",
       "8959            quiero un prestamo¿necesito ser cliente?   Cat_248   39\n",
       "9185   cuales son las condiciones para acceder al ccr...   Cat_248  218\n",
       "9369                  quiero saber si me dan un prestamo   Cat_248  225\n",
       "10850           necsito saber si puedo sacar un prestamo   Cat_248  223\n",
       "14863      quiero saber si puedo tener préstamo personal   Cat_248  218\n",
       "15943                              a quien dan prestamos   Cat_248  218\n",
       "16685     no me podrias decir si puedo sacar el prestamo   Cat_248  197\n",
       "16948                  puedo sacar el credito prendario?   Cat_248  256\n",
       "17315              quiero saber si me pueden dar credito   Cat_248  225\n",
       "17887                   puedo sacar un préstamo.personal   Cat_248  223\n",
       "18289   se puede pedir un préstamo siendo monotributista   Cat_248  249\n",
       "19124                                      dan préstamos   Cat_248  218"
      ]
     },
     "execution_count": 47,
     "metadata": {},
     "output_type": "execute_result"
    }
   ],
   "source": [
    "df[(y_a != processor.get_class_name(preds_a).flatten()) & (df.Intencion == 'Cat_248')].head(60)"
   ]
  },
  {
   "cell_type": "markdown",
   "metadata": {},
   "source": [
    "### Subm"
   ]
  },
  {
   "cell_type": "code",
   "execution_count": 48,
   "metadata": {},
   "outputs": [],
   "source": [
    "val = pd.read_csv('./test_santander.csv', sep=',')"
   ]
  },
  {
   "cell_type": "code",
   "execution_count": 49,
   "metadata": {},
   "outputs": [],
   "source": [
    "val_prep = processor.transform(val.Pregunta.values)"
   ]
  },
  {
   "cell_type": "code",
   "execution_count": 50,
   "metadata": {},
   "outputs": [
    {
     "data": {
      "text/plain": [
       "(6702, 24)"
      ]
     },
     "execution_count": 50,
     "metadata": {},
     "output_type": "execute_result"
    }
   ],
   "source": [
    "val_prep.shape"
   ]
  },
  {
   "cell_type": "code",
   "execution_count": 51,
   "metadata": {},
   "outputs": [],
   "source": [
    "val_preds = model.predict(val_prep)"
   ]
  },
  {
   "cell_type": "code",
   "execution_count": 52,
   "metadata": {},
   "outputs": [
    {
     "data": {
      "text/plain": [
       "(6702, 351)"
      ]
     },
     "execution_count": 52,
     "metadata": {},
     "output_type": "execute_result"
    }
   ],
   "source": [
    "val_preds.shape"
   ]
  },
  {
   "cell_type": "code",
   "execution_count": 53,
   "metadata": {},
   "outputs": [
    {
     "data": {
      "text/plain": [
       "array(['303', '303', '311', ..., '199', '138', '337'], dtype=object)"
      ]
     },
     "execution_count": 53,
     "metadata": {},
     "output_type": "execute_result"
    }
   ],
   "source": [
    "processor.get_class_name(val_preds).flatten()"
   ]
  },
  {
   "cell_type": "code",
   "execution_count": 54,
   "metadata": {},
   "outputs": [],
   "source": [
    "subm = pd.DataFrame({'id':val.id.values, 'pred': processor.get_class_name(val_preds).flatten()})"
   ]
  },
  {
   "cell_type": "code",
   "execution_count": 55,
   "metadata": {},
   "outputs": [],
   "source": [
    "subm.to_csv('./submissions/text_cnn_v2prep.csv',header=False, index=False)"
   ]
  },
  {
   "cell_type": "code",
   "execution_count": null,
   "metadata": {},
   "outputs": [],
   "source": []
  }
 ],
 "metadata": {
  "environment": {
   "name": "tf2-2-2-gpu.2-2.m49",
   "type": "gcloud",
   "uri": "gcr.io/deeplearning-platform-release/tf2-2-2-gpu.2-2:m49"
  },
  "kernelspec": {
   "display_name": "Python 3",
   "language": "python",
   "name": "python3"
  },
  "language_info": {
   "codemirror_mode": {
    "name": "ipython",
    "version": 3
   },
   "file_extension": ".py",
   "mimetype": "text/x-python",
   "name": "python",
   "nbconvert_exporter": "python",
   "pygments_lexer": "ipython3",
   "version": "3.7.6"
  }
 },
 "nbformat": 4,
 "nbformat_minor": 4
}
