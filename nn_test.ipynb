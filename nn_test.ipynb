{
 "cells": [
  {
   "cell_type": "markdown",
   "metadata": {},
   "source": [
    "# Clasificación de preguntas de clientes - Santander\n",
    "\n",
    "En Santander tenemos por misión contribuir al progreso de las personas y las empresas. Debido a ello buscamos constantemente nuevas formas de entender al cliente, con el objetivo de consolidar vínculos a largo plazo.\n",
    "\n",
    "Nuestro equipo de Advanced Analytics & Machine Learning se encuentra en continua mejora de sus algoritmos y modelos. Basándonos en esta premisa, decidimos abrir nuestros datos e invitar a la comunidad a identificar nuevas formas de entender las preguntas y reclamos de nuestros clientes, utilizando un motor de NLU (Natural Language Understanding).\n",
    "\n",
    "Esta competencia tiene como objetivo desarrollar un algoritmo de clasificación que, utilizando técnicas de NLP (Natural Language Processing), sea capaz de entender la intención de un cliente (target) al momento de realizar una pregunta (predictor) en alguno de los canales del Banco.\n",
    "\n",
    "# Descripción\n",
    "Se disponen de tres datasets:\n",
    "\n",
    "- training.csv: reúne la información del caso, el mismo tiene dos columnas:\n",
    "    - Pregunta: pregunta realizada por el cliente. (String)\n",
    "    - Intención: intención de la pregunta realizada, contiene 350 intenciones aproximadamente. (String)\n",
    "\n",
    "- test.csv: solo contiene la pregunta realizada por el cliente.\n",
    "\n",
    "- primer_submit.csv: este archivo tiene el formato en el que se deben enviar las predicciones.\n",
    "\n",
    "# Evaluación\n",
    "La evaluación consta de dos partes:\n",
    "\n",
    "1 - **Score de predicciones**: los resultados serán medidos utilizando la métrica **Balance Accuracy**. En el leaderboard se puede ver el mejor score público del total de submits de cada participante. El mismo se calcula con una porción de los datos de test. Metadata se reserva el score privado para la evaluación final.\n",
    "\n",
    "El archivo con predicciones que se debe submitear debe esta en formato csv sin encabezado y debe contar de dos columnas. La primer columna corresponde al 'id' de la pregunta hecha por el cliente en el archivo de test. La segunda a la categoría predicha en formato de entero, es decir, si la predicción es cat_101 (string) debe reportar solamente 101 (int). Para ver un ejemplo puede mirar el archivo primer_submit en las solapa Datos.\n",
    "\n",
    "2 - **Informe**: Al finalizar la competencia se pedirá a los primeros 10 competidores en el ranking de predicciones un informe adicional, donde se explique el modelo y la metodología aplicada. La nota la otorgará un jurado ad-hoc de especialistas en el tema evaluando el informe sobre el trabajo realizado con el análisis de contrastación entre los datos reales y los datos generados por los modelos.\n",
    "\n",
    "Finalmente, el score total que determinará los ganadores se compondrá en un 70% por el score privado conseguido con la predicción medida con la métrica especificada y el 30% restante se sumará con el informe.\n",
    "\n",
    "Importante: tanto Santander como Metadata se reservan el derecho a pedir el código para poder evaluar el modelo y evitar soluciones tramposas. En caso de que se le requiera el código a un participante y no lo envíe, será descalificado de forma inmediata."
   ]
  },
  {
   "cell_type": "code",
   "execution_count": 1,
   "metadata": {},
   "outputs": [
    {
     "name": "stderr",
     "output_type": "stream",
     "text": [
      "Using TensorFlow backend.\n"
     ]
    }
   ],
   "source": [
    "import os\n",
    "import sys\n",
    "import tensorflow.keras\n",
    "from tensorflow.keras.preprocessing.text import Tokenizer\n",
    "from tensorflow.keras.utils import to_categorical\n",
    "from tensorflow.keras.preprocessing.sequence import pad_sequences\n",
    "from keras.layers import Activation, Conv2D, Input, Embedding, Reshape, MaxPool1D, MaxPool2D, Concatenate, Flatten, Dropout, Dense, Conv1D\n",
    "from keras.models import Model, Sequential\n",
    "from keras.optimizers import Adam\n",
    "from keras.utils import to_categorical\n",
    "from sklearn.preprocessing import OneHotEncoder\n",
    "from sklearn.model_selection import train_test_split\n",
    "import re\n",
    "from gensim.models import KeyedVectors\n",
    "import spacy\n",
    "from spacy.lang.es.stop_words import STOP_WORDS\n",
    "import unicodedata\n",
    "import pandas as pd\n",
    "import numpy as np\n",
    "import matplotlib.pyplot as plt\n",
    "import seaborn as sns\n",
    "import warnings\n",
    "from sklearn import preprocessing\n",
    "warnings.filterwarnings('ignore')\n",
    "pd.set_option('display.max_columns', None)\n",
    "from keras.callbacks import ModelCheckpoint, ReduceLROnPlateau, EarlyStopping, CSVLogger, TensorBoard\n",
    "from imblearn.over_sampling import RandomOverSampler\n",
    "from imblearn.under_sampling import RandomUnderSampler\n",
    "from joblib import load, dump\n",
    "from keras.metrics import categorical_accuracy\n",
    "from keras.layers import GlobalMaxPooling1D, GlobalAveragePooling1D, Layer, InputSpec\n",
    "from keras.layers import LSTM,SpatialDropout1D, GRU, Bidirectional, TimeDistributed, BatchNormalization\n",
    "import gc\n",
    "from imblearn import FunctionSampler\n",
    "from sklearn.utils import class_weight\n",
    "import keras.backend as K\n",
    "import fasttext\n",
    "from keras import initializers\n",
    "from keras import callbacks\n",
    "from keras.callbacks import Callback as Callback\n",
    "from spacy.lang.es import Spanish"
   ]
  },
  {
   "cell_type": "code",
   "execution_count": 2,
   "metadata": {},
   "outputs": [
    {
     "name": "stdout",
     "output_type": "stream",
     "text": [
      "Num GPUs Available:  0\n"
     ]
    }
   ],
   "source": [
    "import tensorflow as tf\n",
    "print(\"Num GPUs Available: \", len(tf.config.experimental.list_physical_devices('GPU')))"
   ]
  },
  {
   "cell_type": "code",
   "execution_count": 3,
   "metadata": {},
   "outputs": [],
   "source": [
    "df = pd.read_csv('./train.csv', sep='|')"
   ]
  },
  {
   "cell_type": "code",
   "execution_count": 4,
   "metadata": {},
   "outputs": [
    {
     "data": {
      "text/plain": [
       "(20104, 2)"
      ]
     },
     "execution_count": 4,
     "metadata": {},
     "output_type": "execute_result"
    }
   ],
   "source": [
    "df.shape"
   ]
  },
  {
   "cell_type": "code",
   "execution_count": 5,
   "metadata": {},
   "outputs": [
    {
     "data": {
      "text/html": [
       "<div>\n",
       "<style scoped>\n",
       "    .dataframe tbody tr th:only-of-type {\n",
       "        vertical-align: middle;\n",
       "    }\n",
       "\n",
       "    .dataframe tbody tr th {\n",
       "        vertical-align: top;\n",
       "    }\n",
       "\n",
       "    .dataframe thead th {\n",
       "        text-align: right;\n",
       "    }\n",
       "</style>\n",
       "<table border=\"1\" class=\"dataframe\">\n",
       "  <thead>\n",
       "    <tr style=\"text-align: right;\">\n",
       "      <th></th>\n",
       "      <th>Pregunta</th>\n",
       "      <th>Intencion</th>\n",
       "    </tr>\n",
       "  </thead>\n",
       "  <tbody>\n",
       "    <tr>\n",
       "      <th>0</th>\n",
       "      <td>como puedo trabajar en santander rio</td>\n",
       "      <td>Cat_102</td>\n",
       "    </tr>\n",
       "    <tr>\n",
       "      <th>1</th>\n",
       "      <td>pagar tarjeta visa querer reintegro</td>\n",
       "      <td>Cat_350</td>\n",
       "    </tr>\n",
       "    <tr>\n",
       "      <th>2</th>\n",
       "      <td>pagar tarjeta naranja sistema</td>\n",
       "      <td>Cat_132</td>\n",
       "    </tr>\n",
       "    <tr>\n",
       "      <th>3</th>\n",
       "      <td>no se debitó la primera cuota del plan de bien...</td>\n",
       "      <td>Cat_129</td>\n",
       "    </tr>\n",
       "    <tr>\n",
       "      <th>4</th>\n",
       "      <td>abonar tarjeta credito</td>\n",
       "      <td>Cat_342</td>\n",
       "    </tr>\n",
       "  </tbody>\n",
       "</table>\n",
       "</div>"
      ],
      "text/plain": [
       "                                            Pregunta Intencion\n",
       "0               como puedo trabajar en santander rio   Cat_102\n",
       "1                pagar tarjeta visa querer reintegro   Cat_350\n",
       "2                      pagar tarjeta naranja sistema   Cat_132\n",
       "3  no se debitó la primera cuota del plan de bien...   Cat_129\n",
       "4                             abonar tarjeta credito   Cat_342"
      ]
     },
     "execution_count": 5,
     "metadata": {},
     "output_type": "execute_result"
    }
   ],
   "source": [
    "df.head()"
   ]
  },
  {
   "cell_type": "code",
   "execution_count": 6,
   "metadata": {},
   "outputs": [
    {
     "data": {
      "text/plain": [
       "Pregunta     0\n",
       "Intencion    0\n",
       "dtype: int64"
      ]
     },
     "execution_count": 6,
     "metadata": {},
     "output_type": "execute_result"
    }
   ],
   "source": [
    "df.isna().sum()"
   ]
  },
  {
   "cell_type": "code",
   "execution_count": 7,
   "metadata": {},
   "outputs": [
    {
     "data": {
      "text/html": [
       "<div>\n",
       "<style scoped>\n",
       "    .dataframe tbody tr th:only-of-type {\n",
       "        vertical-align: middle;\n",
       "    }\n",
       "\n",
       "    .dataframe tbody tr th {\n",
       "        vertical-align: top;\n",
       "    }\n",
       "\n",
       "    .dataframe thead th {\n",
       "        text-align: right;\n",
       "    }\n",
       "</style>\n",
       "<table border=\"1\" class=\"dataframe\">\n",
       "  <thead>\n",
       "    <tr style=\"text-align: right;\">\n",
       "      <th></th>\n",
       "      <th>Intencion</th>\n",
       "    </tr>\n",
       "  </thead>\n",
       "  <tbody>\n",
       "    <tr>\n",
       "      <th>Cat_7</th>\n",
       "      <td>6</td>\n",
       "    </tr>\n",
       "    <tr>\n",
       "      <th>Cat_171</th>\n",
       "      <td>6</td>\n",
       "    </tr>\n",
       "    <tr>\n",
       "      <th>Cat_209</th>\n",
       "      <td>6</td>\n",
       "    </tr>\n",
       "    <tr>\n",
       "      <th>Cat_12</th>\n",
       "      <td>6</td>\n",
       "    </tr>\n",
       "    <tr>\n",
       "      <th>Cat_18</th>\n",
       "      <td>5</td>\n",
       "    </tr>\n",
       "    <tr>\n",
       "      <th>Cat_14</th>\n",
       "      <td>5</td>\n",
       "    </tr>\n",
       "    <tr>\n",
       "      <th>Cat_8</th>\n",
       "      <td>5</td>\n",
       "    </tr>\n",
       "    <tr>\n",
       "      <th>Cat_23</th>\n",
       "      <td>5</td>\n",
       "    </tr>\n",
       "    <tr>\n",
       "      <th>Cat_213</th>\n",
       "      <td>5</td>\n",
       "    </tr>\n",
       "    <tr>\n",
       "      <th>Cat_11</th>\n",
       "      <td>3</td>\n",
       "    </tr>\n",
       "    <tr>\n",
       "      <th>Cat_13</th>\n",
       "      <td>3</td>\n",
       "    </tr>\n",
       "    <tr>\n",
       "      <th>Cat_15</th>\n",
       "      <td>3</td>\n",
       "    </tr>\n",
       "    <tr>\n",
       "      <th>Cat_205</th>\n",
       "      <td>3</td>\n",
       "    </tr>\n",
       "    <tr>\n",
       "      <th>Cat_24</th>\n",
       "      <td>2</td>\n",
       "    </tr>\n",
       "    <tr>\n",
       "      <th>Cat_104</th>\n",
       "      <td>1</td>\n",
       "    </tr>\n",
       "  </tbody>\n",
       "</table>\n",
       "</div>"
      ],
      "text/plain": [
       "         Intencion\n",
       "Cat_7            6\n",
       "Cat_171          6\n",
       "Cat_209          6\n",
       "Cat_12           6\n",
       "Cat_18           5\n",
       "Cat_14           5\n",
       "Cat_8            5\n",
       "Cat_23           5\n",
       "Cat_213          5\n",
       "Cat_11           3\n",
       "Cat_13           3\n",
       "Cat_15           3\n",
       "Cat_205          3\n",
       "Cat_24           2\n",
       "Cat_104          1"
      ]
     },
     "execution_count": 7,
     "metadata": {},
     "output_type": "execute_result"
    }
   ],
   "source": [
    "val_counts = pd.DataFrame(df.Intencion.value_counts())\n",
    "val_counts.tail(15)"
   ]
  },
  {
   "cell_type": "code",
   "execution_count": 8,
   "metadata": {},
   "outputs": [
    {
     "data": {
      "text/plain": [
       "(350,)"
      ]
     },
     "execution_count": 8,
     "metadata": {},
     "output_type": "execute_result"
    }
   ],
   "source": [
    "val_counts_df = pd.DataFrame(df.Intencion.value_counts())\n",
    "relevant_classes = val_counts_df[val_counts_df.Intencion > 2].index\n",
    "relevant_classes.shape"
   ]
  },
  {
   "cell_type": "code",
   "execution_count": 9,
   "metadata": {},
   "outputs": [],
   "source": [
    "df = df[df.Intencion.isin(relevant_classes)]"
   ]
  },
  {
   "cell_type": "code",
   "execution_count": 10,
   "metadata": {},
   "outputs": [],
   "source": [
    "#df = df[df['Intencion'] != 'Cat_104']"
   ]
  },
  {
   "cell_type": "code",
   "execution_count": 11,
   "metadata": {},
   "outputs": [],
   "source": [
    "#lens = [len(x.split(\" \")) for x in df.Pregunta.values]\n",
    "#df['len'] = np.array(lens)\n",
    "#df = df[df.len < 20]"
   ]
  },
  {
   "cell_type": "code",
   "execution_count": 12,
   "metadata": {},
   "outputs": [
    {
     "data": {
      "text/plain": [
       "(20101, 2)"
      ]
     },
     "execution_count": 12,
     "metadata": {},
     "output_type": "execute_result"
    }
   ],
   "source": [
    "df.shape"
   ]
  },
  {
   "cell_type": "code",
   "execution_count": 13,
   "metadata": {},
   "outputs": [],
   "source": [
    "class text_preprocessor():\n",
    "    \n",
    "    def __init__(self, test_split = 0.2, pad_with = 'max_len'):\n",
    "        '''\n",
    "        Pad with can be: 'max_lenght', 'avg_lenght' or int number\n",
    "        ''' \n",
    "        if (pad_with not in ('max_len','avg_len')) and (type(pad_with) is not int):\n",
    "            raise Exception(\"ERROR: Pad with must be 'max_lenght', 'avg_lenght' or int type\")\n",
    "        self.tokenizer = Tokenizer()\n",
    "        self.test_split = test_split\n",
    "        self.pad_with = pad_with\n",
    "        self.pad_text_to = None\n",
    "        self.nlp = Spanish()\n",
    "        self.y_label_encoder = OneHotEncoder(sparse=False)\n",
    "        self.transform_dict = {\n",
    "            'k':'que',\n",
    "            'q':'que',\n",
    "            'xq': 'por que',\n",
    "            'x': 'por',\n",
    "            'wsp':'whatsapp',\n",
    "            'wasap':'whatsapp',\n",
    "            'watsap':'whatsapp',\n",
    "            'hdp': 'hijo de puta',\n",
    "            'vergüenza' : 'verguenza',\n",
    "            'imbesil': 'imbecil',\n",
    "            'imbesiles': 'imbeciles',\n",
    "            'nesecito': 'necesito',\n",
    "            'tageta':'tarjeta',\n",
    "            'psuper': 'super',\n",
    "            'hombamnkin': 'home banking',\n",
    "            'usd': 'dolares',\n",
    "            'invercion': 'inversion',\n",
    "            'buscartenencias': 'buscar tenencias',\n",
    "            'ccredito':'credito',\n",
    "            'nro':'numero',\n",
    "            'ala': 'a la'\n",
    "        }\n",
    "        self.non_important_words = ['santander', 'rio','sos','¬≠','tarjeta']\n",
    "        self.important_words = ['no','trabajo','trabajar','como','puede','sacar','usar']\n",
    "    \n",
    "    def fit_transform(self, df):\n",
    "        # Data Preparation\n",
    "        x_text, y = self.make_dataset(df)\n",
    "        \n",
    "        # Build vocabulary\n",
    "        if self.pad_with == 'max_len':\n",
    "            max_text_lenght = max([len(x.split(\" \")) for x in x_text])\n",
    "            self.pad_text_to = max_text_lenght\n",
    "        elif self.pad_with == 'avg_len':\n",
    "            avg_text_lenght = int(np.mean([len(x.split(\" \")) for x in x_text]))\n",
    "            self.pad_text_to = avg_text_lenght\n",
    "        elif type(self.pad_with) is int:\n",
    "            self.pad_text_to = self.pad_with\n",
    "        else:\n",
    "            raise Exception(\"ERROR: Pad with must be 'max_lenght', 'avg_lenght' or int type\")\n",
    "        \n",
    "        self.tokenizer.fit_on_texts(x_text)\n",
    "        sequences =  self.tokenizer.texts_to_sequences(x_text)\n",
    "        word_index = self.tokenizer.word_index\n",
    "        vocab_size = len(word_index) + 1\n",
    "        print(\"Vocabulary Size : {}\".format(vocab_size))\n",
    "        x = pad_sequences(sequences, maxlen=self.pad_text_to) # Pad with 0.0 (default pad_sequences value)\n",
    "\n",
    "        x_train, x_test, y_train, y_test = train_test_split(x, y, test_size=self.test_split, random_state=42,stratify=y)\n",
    "        \n",
    "        del x, y\n",
    "\n",
    "        print(\"Train/Test split: {:d}/{:d}\".format(len(y_train), len(y_test)))\n",
    "        return x_train, y_train, vocab_size, word_index, x_test, y_test\n",
    "   \n",
    "    def transform(self, text):\n",
    "        stripped = [s.strip() for s in text]\n",
    "        clean = [self.clean_str(sent) for sent in stripped]\n",
    "        sequences = self.tokenizer.texts_to_sequences(clean)\n",
    "        x = pad_sequences(sequences, maxlen=self.pad_text_to)\n",
    "        return x\n",
    "    \n",
    "    def get_padded_text_len(self):\n",
    "        if self.pad_text_to is not None:\n",
    "            return self.pad_text_to\n",
    "        else:\n",
    "            raise Exception(\"ERROR: pad_text_to is not set. Must fit before get_padded_text_len\")\n",
    "        \n",
    "    def clean_str(self,text):\n",
    "        s = []\n",
    "        text = re.sub(r'[^a-zA-Z\\s]+', '', text)\n",
    "        text = re.sub(r\",\", \" , \", text)\n",
    "        text = re.sub(r\"\\.\", \" . \", text)\n",
    "        text = re.sub(r\"!\", \" ! \", text)\n",
    "        text = re.sub(r\"\\(\", \" \\( \", text)\n",
    "        text = re.sub(r\"\\)\", \" \\) \", text)\n",
    "        text = re.sub(r\"\\?\", \" \\? \", text)\n",
    "        text = re.sub(r\"\\s{2,}\", \" \", text) #2 spaces\n",
    "        text = ''.join(self.transform_dict[w.lower()] if w.lower() in self.transform_dict else w for w in re.split(r'(\\W+)', text))\n",
    "\n",
    "        for tok in self.nlp.tokenizer(text.lower()):\n",
    "\n",
    "            if not tok.is_stop or tok.text in self.important_words and tok.text not in self.non_important_words:\n",
    "                if tok.is_alpha and not (tok.is_digit or len(tok.text) == 1):\n",
    "                    if not tok.is_ascii:\n",
    "                        tok = ''.join(c for c in unicodedata.normalize('NFD', tok.text.lower()) if unicodedata.category(c) != 'Mn')                    \n",
    "                        s.append(tok)\n",
    "                    else:\n",
    "                        s.append(tok.text)\n",
    "        if not s:\n",
    "            return \"emptystring\"\n",
    "        else:\n",
    "            s = ' '.join(s)\n",
    "            return s\n",
    "\n",
    "    def make_dataset(self, df):\n",
    "        x = df['Pregunta'].values\n",
    "        y = df['Intencion']\n",
    "        \n",
    "        x = [s.strip() for s in x]\n",
    "        x = [self.clean_str(sent) for sent in x]\n",
    "        # labels\n",
    "        y = y.str.extract('(\\d+)')\n",
    "        y = self.y_label_encoder.fit_transform(y)  \n",
    "        return [x, y]\n",
    "    \n",
    "    def get_class_name(self, preds):\n",
    "        return self.y_label_encoder.inverse_transform(preds)"
   ]
  },
  {
   "cell_type": "code",
   "execution_count": 14,
   "metadata": {},
   "outputs": [],
   "source": [
    "processor = text_preprocessor(test_split = 0.15, pad_with = 'max_len')"
   ]
  },
  {
   "cell_type": "code",
   "execution_count": 15,
   "metadata": {},
   "outputs": [
    {
     "name": "stdout",
     "output_type": "stream",
     "text": [
      "Vocabulary Size : 5818\n",
      "Train/Test split: 17085/3016\n"
     ]
    }
   ],
   "source": [
    "x_train, y_train, vocab_size, word_index, x_test, y_test = processor.fit_transform(df)"
   ]
  },
  {
   "cell_type": "code",
   "execution_count": 16,
   "metadata": {},
   "outputs": [],
   "source": [
    "texts_fixed_len = processor.get_padded_text_len()"
   ]
  },
  {
   "cell_type": "code",
   "execution_count": 17,
   "metadata": {},
   "outputs": [
    {
     "name": "stdout",
     "output_type": "stream",
     "text": [
      "All texts will be padded with 17 words\n"
     ]
    }
   ],
   "source": [
    "print(\"All texts will be padded with {} words\".format(texts_fixed_len))"
   ]
  },
  {
   "cell_type": "code",
   "execution_count": 18,
   "metadata": {},
   "outputs": [
    {
     "data": {
      "text/plain": [
       "(17085, 350)"
      ]
     },
     "execution_count": 18,
     "metadata": {},
     "output_type": "execute_result"
    }
   ],
   "source": [
    "y_train.shape"
   ]
  },
  {
   "cell_type": "code",
   "execution_count": 19,
   "metadata": {},
   "outputs": [
    {
     "name": "stderr",
     "output_type": "stream",
     "text": [
      "Warning : `load_model` does not return WordVectorModel or SupervisedModel any more, but a `FastText` object which is very similar.\n"
     ]
    }
   ],
   "source": [
    "wvecs = fasttext.load_model('./embeddings/cc.es.300.bin')\n",
    "embeddings_vec_size = wvecs.get_dimension()"
   ]
  },
  {
   "cell_type": "code",
   "execution_count": 20,
   "metadata": {},
   "outputs": [],
   "source": [
    "embedding_matrix = np.zeros((len(word_index) + 1, embeddings_vec_size))\n",
    "for word, i in word_index.items():\n",
    "    try:\n",
    "        embedding_vector = wvecs.get_word_vector(word)\n",
    "        if embedding_vector is not None:\n",
    "            embedding_matrix[i] = embedding_vector\n",
    "    except:\n",
    "        pass # words that are not found in embeddings are filled with all 0"
   ]
  },
  {
   "cell_type": "code",
   "execution_count": 21,
   "metadata": {},
   "outputs": [],
   "source": [
    "def dot_product(x, kernel):\n",
    "    \"\"\"\n",
    "    Wrapper for dot product operation, in order to be compatible with both\n",
    "    Theano and Tensorflow\n",
    "    Args:\n",
    "        x (): input\n",
    "        kernel (): weights\n",
    "    Returns:\n",
    "    \"\"\"\n",
    "    if K.backend() == 'tensorflow':\n",
    "        return K.squeeze(K.dot(x, K.expand_dims(kernel)), axis=-1)\n",
    "    else:\n",
    "        return K.dot(x, kernel)\n",
    "\n",
    "#https://github.com/bfelbo/DeepMoji/blob/master/deepmoji/attlayer.py\n",
    "    \n",
    "class AttentionWeightedAverage(Layer):\n",
    "    \"\"\"\n",
    "    Computes a weighted average of the different channels across timesteps.\n",
    "    Uses 1 parameter pr. channel to compute the attention value for a single timestep.\n",
    "    \"\"\"\n",
    "\n",
    "    def __init__(self, return_attention=False, **kwargs):\n",
    "        self.init = initializers.get('uniform')\n",
    "        self.supports_masking = True\n",
    "        self.return_attention = return_attention\n",
    "        super(AttentionWeightedAverage, self).__init__(** kwargs)\n",
    "        \n",
    "    def get_config(self):\n",
    "        config = {\n",
    "            'return_attention': self.return_attention,\n",
    "        }\n",
    "        base_config = super(AttentionWeightedAverage, self).get_config()\n",
    "        return dict(list(base_config.items()) + list(config.items()))\n",
    "\n",
    "    def build(self, input_shape):\n",
    "        self.input_spec = [InputSpec(ndim=3)]\n",
    "        assert len(input_shape) == 3\n",
    "\n",
    "        self.W = self.add_weight(shape=(input_shape[2], 1),\n",
    "                                 name='{}_W'.format(self.name),\n",
    "                                 initializer=self.init)\n",
    "        self.trainable_weights = [self.W]\n",
    "        super(AttentionWeightedAverage, self).build(input_shape)\n",
    "\n",
    "    def call(self, x, mask=None):\n",
    "        # computes a probability distribution over the timesteps\n",
    "        # uses 'max trick' for numerical stability\n",
    "        # reshape is done to avoid issue with Tensorflow\n",
    "        # and 1-dimensional weights\n",
    "        logits = K.dot(x, self.W)\n",
    "        x_shape = K.shape(x)\n",
    "        logits = K.reshape(logits, (x_shape[0], x_shape[1]))\n",
    "        ai = K.exp(logits - K.max(logits, axis=-1, keepdims=True))\n",
    "\n",
    "        # masked timesteps have zero weight\n",
    "        if mask is not None:\n",
    "            mask = K.cast(mask, K.floatx())\n",
    "            ai = ai * mask\n",
    "        att_weights = ai / (K.sum(ai, axis=1, keepdims=True) + K.epsilon())\n",
    "        weighted_input = x * K.expand_dims(att_weights)\n",
    "        result = K.sum(weighted_input, axis=1)\n",
    "        if self.return_attention:\n",
    "            return [result, att_weights]\n",
    "        return result\n",
    "\n",
    "    def get_output_shape_for(self, input_shape):\n",
    "        return self.compute_output_shape(input_shape)\n",
    "\n",
    "    def compute_output_shape(self, input_shape):\n",
    "        output_len = input_shape[2]\n",
    "        if self.return_attention:\n",
    "            return [(input_shape[0], output_len), (input_shape[0], input_shape[1])]\n",
    "        return (input_shape[0], output_len)\n",
    "\n",
    "    def compute_mask(self, input, input_mask=None):\n",
    "        if isinstance(input_mask, list):\n",
    "            return [None] * len(input_mask)\n",
    "        else:\n",
    "            return None\n",
    "        \n",
    "# https://www.kaggle.com/suicaokhoailang/lstm-attention-baseline-0-652-lb"
   ]
  },
  {
   "cell_type": "code",
   "execution_count": 22,
   "metadata": {},
   "outputs": [
    {
     "name": "stdout",
     "output_type": "stream",
     "text": [
      "Model: \"model_1\"\n",
      "__________________________________________________________________________________________________\n",
      "Layer (type)                    Output Shape         Param #     Connected to                     \n",
      "==================================================================================================\n",
      "input_1 (InputLayer)            (None, 17)           0                                            \n",
      "__________________________________________________________________________________________________\n",
      "embedding_1 (Embedding)         (None, 17, 300)      1745400     input_1[0][0]                    \n",
      "__________________________________________________________________________________________________\n",
      "spatial_dropout1d_1 (SpatialDro (None, 17, 300)      0           embedding_1[0][0]                \n",
      "__________________________________________________________________________________________________\n",
      "bidirectional_1 (Bidirectional) (None, 17, 600)      1442400     spatial_dropout1d_1[0][0]        \n",
      "__________________________________________________________________________________________________\n",
      "bidirectional_2 (Bidirectional) (None, 17, 300)      405900      spatial_dropout1d_1[0][0]        \n",
      "__________________________________________________________________________________________________\n",
      "attention_weighted_average_1 (A (None, 600)          600         bidirectional_1[0][0]            \n",
      "__________________________________________________________________________________________________\n",
      "global_average_pooling1d_1 (Glo (None, 600)          0           bidirectional_1[0][0]            \n",
      "__________________________________________________________________________________________________\n",
      "global_max_pooling1d_1 (GlobalM (None, 600)          0           bidirectional_1[0][0]            \n",
      "__________________________________________________________________________________________________\n",
      "attention_weighted_average_2 (A (None, 300)          300         bidirectional_2[0][0]            \n",
      "__________________________________________________________________________________________________\n",
      "global_average_pooling1d_2 (Glo (None, 300)          0           bidirectional_2[0][0]            \n",
      "__________________________________________________________________________________________________\n",
      "global_max_pooling1d_2 (GlobalM (None, 300)          0           bidirectional_2[0][0]            \n",
      "__________________________________________________________________________________________________\n",
      "concatenate_1 (Concatenate)     (None, 1800)         0           attention_weighted_average_1[0][0\n",
      "                                                                 global_average_pooling1d_1[0][0] \n",
      "                                                                 global_max_pooling1d_1[0][0]     \n",
      "__________________________________________________________________________________________________\n",
      "concatenate_2 (Concatenate)     (None, 900)          0           attention_weighted_average_2[0][0\n",
      "                                                                 global_average_pooling1d_2[0][0] \n",
      "                                                                 global_max_pooling1d_2[0][0]     \n",
      "__________________________________________________________________________________________________\n",
      "concatenate_3 (Concatenate)     (None, 2700)         0           concatenate_1[0][0]              \n",
      "                                                                 concatenate_2[0][0]              \n",
      "__________________________________________________________________________________________________\n",
      "dense_1 (Dense)                 (None, 350)          945350      concatenate_3[0][0]              \n",
      "__________________________________________________________________________________________________\n",
      "dropout_1 (Dropout)             (None, 350)          0           dense_1[0][0]                    \n",
      "__________________________________________________________________________________________________\n",
      "dense_2 (Dense)                 (None, 350)          122850      dropout_1[0][0]                  \n",
      "==================================================================================================\n",
      "Total params: 4,662,800\n",
      "Trainable params: 2,917,400\n",
      "Non-trainable params: 1,745,400\n",
      "__________________________________________________________________________________________________\n"
     ]
    }
   ],
   "source": [
    "num_classes = 350\n",
    "\n",
    "inputs = Input(shape=(texts_fixed_len,), dtype='int32')\n",
    "input_layer = Embedding(input_dim=len(word_index) + 1,\n",
    "                        output_dim=embeddings_vec_size,\n",
    "                        input_length=texts_fixed_len,\n",
    "                        weights=[embedding_matrix],\n",
    "                        trainable=False)(inputs)\n",
    "#input_layer = SpatialDropout1D(0.5)(input_layer)\n",
    "input_layer = SpatialDropout1D(0.5)(input_layer)\n",
    "i1 = Bidirectional(LSTM(300, return_sequences=True))(input_layer)\n",
    "##i1 = Bidirectional(LSTM(embeddings_vec_size*2, return_sequences=True))(input_layer)\n",
    "i1 = Concatenate(axis=1)([AttentionWeightedAverage()(i1), GlobalAveragePooling1D()(i1), GlobalMaxPooling1D()(i1)])\n",
    "i2 = Bidirectional(GRU(150, return_sequences=True))(input_layer)\n",
    "##i2 = Bidirectional(GRU(embeddings_vec_size, return_sequences=True))(input_layer)\n",
    "i2 = Concatenate(axis=1)([AttentionWeightedAverage()(i2),GlobalAveragePooling1D()(i2), GlobalMaxPooling1D()(i2)])\n",
    "concatenated_tensor = Concatenate(axis=1)([i1, i2])\n",
    "concatenated_tensor = Dense(num_classes, activation = 'relu')(concatenated_tensor)\n",
    "#concatenated_tensor = Dense(num_classes*2, activation = 'relu')(concatenated_tensor)\n",
    "#concatenated_tensor = BatchNormalization()(concatenated_tensor)\n",
    "#concatenated_tensor = Dropout(0.5)(concatenated_tensor)\n",
    "concatenated_tensor = Dropout(0.3)(concatenated_tensor)\n",
    "output = Dense(num_classes, activation=\"softmax\")(concatenated_tensor)\n",
    "\n",
    "model = Model(inputs=inputs, outputs=output)\n",
    "\n",
    "#opt=Adam(lr=0.001)\n",
    "opt=Adam(lr=0.0003)\n",
    "\n",
    "model.compile(optimizer=opt, loss='categorical_crossentropy',\n",
    "              metrics=['acc'])\n",
    "\n",
    "model.summary()"
   ]
  },
  {
   "cell_type": "code",
   "execution_count": 23,
   "metadata": {},
   "outputs": [
    {
     "data": {
      "image/png": "[encoded data removed]",
      "text/plain": [
       "<IPython.core.display.Image object>"
      ]
     },
     "execution_count": 23,
     "metadata": {},
     "output_type": "execute_result"
    }
   ],
   "source": [
    "from keras.utils import plot_model\n",
    "plot_model(model, to_file='model.png')"
   ]
  },
  {
   "cell_type": "markdown",
   "metadata": {},
   "source": [
    "### sin imblearn"
   ]
  },
  {
   "cell_type": "code",
   "execution_count": 24,
   "metadata": {},
   "outputs": [
    {
     "data": {
      "text/plain": [
       "(17085, 350)"
      ]
     },
     "execution_count": 24,
     "metadata": {},
     "output_type": "execute_result"
    }
   ],
   "source": [
    "y_train.shape"
   ]
  },
  {
   "cell_type": "code",
   "execution_count": 25,
   "metadata": {},
   "outputs": [],
   "source": [
    "y_integers = np.argmax(y_train, axis=1)\n",
    "class_weights = class_weight.compute_class_weight('balanced', np.unique(y_integers), y_integers)\n",
    "d_class_weights = dict(enumerate(class_weights))"
   ]
  },
  {
   "cell_type": "code",
   "execution_count": 41,
   "metadata": {},
   "outputs": [
    {
     "name": "stdout",
     "output_type": "stream",
     "text": [
      "Train on 17085 samples, validate on 3016 samples\n",
      "Epoch 1/200\n",
      "17085/17085 [==============================] - 144s 8ms/step - loss: 0.4867 - acc: 0.6860 - val_loss: 1.5247 - val_acc: 0.6111\n",
      "\n",
      "Epoch 00001: val_acc improved from -inf to 0.61107, saving model to meli.hdf5\n",
      "Epoch 2/200\n",
      "17085/17085 [==============================] - 108s 6ms/step - loss: 0.4953 - acc: 0.6782 - val_loss: 1.5300 - val_acc: 0.6068\n",
      "\n",
      "Epoch 00002: val_acc did not improve from 0.61107\n",
      "Epoch 3/200\n",
      "17085/17085 [==============================] - 126s 7ms/step - loss: 0.4781 - acc: 0.6862 - val_loss: 1.5281 - val_acc: 0.6101\n",
      "\n",
      "Epoch 00003: val_acc did not improve from 0.61107\n",
      "Epoch 4/200\n",
      "17085/17085 [==============================] - 130s 8ms/step - loss: 0.4831 - acc: 0.6847 - val_loss: 1.5170 - val_acc: 0.6088\n",
      "\n",
      "Epoch 00004: val_acc did not improve from 0.61107\n",
      "Epoch 5/200\n",
      "17085/17085 [==============================] - 129s 8ms/step - loss: 0.4794 - acc: 0.6887 - val_loss: 1.5437 - val_acc: 0.6038\n",
      "\n",
      "Epoch 00005: val_acc did not improve from 0.61107\n",
      "Epoch 6/200\n",
      "17085/17085 [==============================] - 128s 8ms/step - loss: 0.4613 - acc: 0.6926 - val_loss: 1.5063 - val_acc: 0.6097\n",
      "\n",
      "Epoch 00006: val_acc did not improve from 0.61107\n",
      "Epoch 7/200\n",
      "17085/17085 [==============================] - 130s 8ms/step - loss: 0.4649 - acc: 0.6873 - val_loss: 1.5225 - val_acc: 0.6141\n",
      "\n",
      "Epoch 00007: val_acc improved from 0.61107 to 0.61406, saving model to meli.hdf5\n",
      "Epoch 8/200\n",
      "17085/17085 [==============================] - 131s 8ms/step - loss: 0.4568 - acc: 0.6964 - val_loss: 1.5207 - val_acc: 0.6137\n",
      "\n",
      "Epoch 00008: val_acc did not improve from 0.61406\n",
      "Epoch 9/200\n",
      "17085/17085 [==============================] - 129s 8ms/step - loss: 0.4586 - acc: 0.6955 - val_loss: 1.5095 - val_acc: 0.6194\n",
      "\n",
      "Epoch 00009: val_acc improved from 0.61406 to 0.61936, saving model to meli.hdf5\n",
      "Epoch 10/200\n",
      "17085/17085 [==============================] - 133s 8ms/step - loss: 0.4592 - acc: 0.6931 - val_loss: 1.5075 - val_acc: 0.6220\n",
      "\n",
      "Epoch 00010: val_acc improved from 0.61936 to 0.62202, saving model to meli.hdf5\n",
      "Epoch 11/200\n",
      "17085/17085 [==============================] - 129s 8ms/step - loss: 0.4574 - acc: 0.6941 - val_loss: 1.4963 - val_acc: 0.6210\n",
      "\n",
      "Epoch 00011: val_acc did not improve from 0.62202\n",
      "Epoch 12/200\n",
      "17085/17085 [==============================] - 129s 8ms/step - loss: 0.4577 - acc: 0.6993 - val_loss: 1.4847 - val_acc: 0.6210\n",
      "\n",
      "Epoch 00012: val_acc did not improve from 0.62202\n",
      "Epoch 13/200\n",
      "17085/17085 [==============================] - 130s 8ms/step - loss: 0.4433 - acc: 0.7017 - val_loss: 1.5041 - val_acc: 0.6121\n",
      "\n",
      "Epoch 00013: val_acc did not improve from 0.62202\n",
      "Epoch 14/200\n",
      "17085/17085 [==============================] - 91s 5ms/step - loss: 0.4406 - acc: 0.7021 - val_loss: 1.4805 - val_acc: 0.6257\n",
      "\n",
      "Epoch 00014: val_acc improved from 0.62202 to 0.62566, saving model to meli.hdf5\n",
      "Epoch 15/200\n",
      "17085/17085 [==============================] - 65s 4ms/step - loss: 0.4495 - acc: 0.6969 - val_loss: 1.5077 - val_acc: 0.6187\n",
      "\n",
      "Epoch 00015: val_acc did not improve from 0.62566\n",
      "Epoch 16/200\n",
      "17085/17085 [==============================] - 66s 4ms/step - loss: 0.4480 - acc: 0.7002 - val_loss: 1.5094 - val_acc: 0.6190\n",
      "\n",
      "Epoch 00016: val_acc did not improve from 0.62566\n",
      "Epoch 17/200\n",
      "17085/17085 [==============================] - 66s 4ms/step - loss: 0.4432 - acc: 0.6970 - val_loss: 1.5261 - val_acc: 0.6107\n",
      "\n",
      "Epoch 00017: val_acc did not improve from 0.62566\n",
      "Epoch 18/200\n",
      "17085/17085 [==============================] - 67s 4ms/step - loss: 0.4318 - acc: 0.7056 - val_loss: 1.5169 - val_acc: 0.6127\n",
      "\n",
      "Epoch 00018: val_acc did not improve from 0.62566\n",
      "Epoch 19/200\n",
      "17085/17085 [==============================] - 66s 4ms/step - loss: 0.4405 - acc: 0.7006 - val_loss: 1.5134 - val_acc: 0.6160\n",
      "\n",
      "Epoch 00019: val_acc did not improve from 0.62566\n",
      "Epoch 20/200\n",
      "17085/17085 [==============================] - 66s 4ms/step - loss: 0.4319 - acc: 0.7071 - val_loss: 1.5134 - val_acc: 0.6217\n",
      "\n",
      "Epoch 00020: val_acc did not improve from 0.62566\n",
      "Epoch 21/200\n",
      "17085/17085 [==============================] - 66s 4ms/step - loss: 0.4298 - acc: 0.7035 - val_loss: 1.5234 - val_acc: 0.6121\n",
      "\n",
      "Epoch 00021: val_acc did not improve from 0.62566\n",
      "Epoch 22/200\n",
      "17085/17085 [==============================] - 65s 4ms/step - loss: 0.4237 - acc: 0.7049 - val_loss: 1.5070 - val_acc: 0.6250\n",
      "\n",
      "Epoch 00022: val_acc did not improve from 0.62566\n",
      "Epoch 23/200\n",
      "17085/17085 [==============================] - 82s 5ms/step - loss: 0.4231 - acc: 0.7080 - val_loss: 1.5147 - val_acc: 0.6127\n",
      "\n",
      "Epoch 00023: val_acc did not improve from 0.62566\n",
      "Epoch 24/200\n",
      "17085/17085 [==============================] - 130s 8ms/step - loss: 0.4366 - acc: 0.7051 - val_loss: 1.5079 - val_acc: 0.6151\n",
      "\n",
      "Epoch 00024: val_acc did not improve from 0.62566\n",
      "Epoch 25/200\n",
      "17085/17085 [==============================] - 127s 7ms/step - loss: 0.4207 - acc: 0.7113 - val_loss: 1.5178 - val_acc: 0.6187\n",
      "\n",
      "Epoch 00025: val_acc did not improve from 0.62566\n",
      "Epoch 26/200\n",
      "17085/17085 [==============================] - 132s 8ms/step - loss: 0.4071 - acc: 0.7157 - val_loss: 1.5059 - val_acc: 0.6230\n",
      "\n",
      "Epoch 00026: val_acc did not improve from 0.62566\n",
      "Epoch 27/200\n",
      "17085/17085 [==============================] - 130s 8ms/step - loss: 0.4153 - acc: 0.7133 - val_loss: 1.4869 - val_acc: 0.6296\n",
      "\n",
      "Epoch 00027: val_acc improved from 0.62566 to 0.62964, saving model to meli.hdf5\n",
      "Epoch 28/200\n",
      "17085/17085 [==============================] - 131s 8ms/step - loss: 0.4154 - acc: 0.7118 - val_loss: 1.5240 - val_acc: 0.6167\n",
      "\n",
      "Epoch 00028: val_acc did not improve from 0.62964\n",
      "Epoch 29/200\n",
      "17085/17085 [==============================] - 127s 7ms/step - loss: 0.4203 - acc: 0.7080 - val_loss: 1.5168 - val_acc: 0.6207\n",
      "\n",
      "Epoch 00029: val_acc did not improve from 0.62964\n",
      "Epoch 30/200\n",
      "17085/17085 [==============================] - 128s 7ms/step - loss: 0.4054 - acc: 0.7178 - val_loss: 1.4876 - val_acc: 0.6220\n",
      "\n",
      "Epoch 00030: val_acc did not improve from 0.62964\n",
      "Epoch 31/200\n",
      "17085/17085 [==============================] - 131s 8ms/step - loss: 0.4059 - acc: 0.7178 - val_loss: 1.4869 - val_acc: 0.6217\n",
      "\n",
      "Epoch 00031: val_acc did not improve from 0.62964\n",
      "Epoch 32/200\n",
      "17085/17085 [==============================] - 131s 8ms/step - loss: 0.4026 - acc: 0.7171 - val_loss: 1.4954 - val_acc: 0.6237\n",
      "\n",
      "Epoch 00032: val_acc did not improve from 0.62964\n",
      "Epoch 33/200\n",
      "17085/17085 [==============================] - 132s 8ms/step - loss: 0.4166 - acc: 0.7177 - val_loss: 1.5179 - val_acc: 0.6141\n",
      "\n",
      "Epoch 00033: val_acc did not improve from 0.62964\n",
      "Epoch 34/200\n",
      "17085/17085 [==============================] - 129s 8ms/step - loss: 0.4027 - acc: 0.7158 - val_loss: 1.4976 - val_acc: 0.6253\n",
      "\n",
      "Epoch 00034: val_acc did not improve from 0.62964\n",
      "Epoch 35/200\n",
      "17085/17085 [==============================] - 126s 7ms/step - loss: 0.3967 - acc: 0.7200 - val_loss: 1.4859 - val_acc: 0.6230\n",
      "\n",
      "Epoch 00035: val_acc did not improve from 0.62964\n",
      "Epoch 36/200\n",
      "17085/17085 [==============================] - 133s 8ms/step - loss: 0.4080 - acc: 0.7168 - val_loss: 1.5078 - val_acc: 0.6184\n",
      "\n",
      "Epoch 00036: val_acc did not improve from 0.62964\n",
      "Epoch 37/200\n",
      "17085/17085 [==============================] - 128s 7ms/step - loss: 0.3891 - acc: 0.7234 - val_loss: 1.4958 - val_acc: 0.6230\n",
      "\n",
      "Epoch 00037: val_acc did not improve from 0.62964\n",
      "Epoch 38/200\n",
      "17085/17085 [==============================] - 130s 8ms/step - loss: 0.4012 - acc: 0.7147 - val_loss: 1.4848 - val_acc: 0.6280\n",
      "\n",
      "Epoch 00038: val_acc did not improve from 0.62964\n",
      "Epoch 39/200\n",
      "17085/17085 [==============================] - 134s 8ms/step - loss: 0.3878 - acc: 0.7298 - val_loss: 1.4835 - val_acc: 0.6300\n",
      "\n",
      "Epoch 00039: val_acc improved from 0.62964 to 0.62997, saving model to meli.hdf5\n",
      "Epoch 40/200\n",
      "17085/17085 [==============================] - 132s 8ms/step - loss: 0.3874 - acc: 0.7238 - val_loss: 1.4901 - val_acc: 0.6220\n",
      "\n",
      "Epoch 00040: val_acc did not improve from 0.62997\n",
      "Epoch 41/200\n",
      "17085/17085 [==============================] - 132s 8ms/step - loss: 0.3741 - acc: 0.7268 - val_loss: 1.4838 - val_acc: 0.6316\n",
      "\n",
      "Epoch 00041: val_acc improved from 0.62997 to 0.63163, saving model to meli.hdf5\n",
      "Epoch 42/200\n",
      "17085/17085 [==============================] - 132s 8ms/step - loss: 0.3866 - acc: 0.7251 - val_loss: 1.4853 - val_acc: 0.6280\n",
      "\n",
      "Epoch 00042: val_acc did not improve from 0.63163\n",
      "Epoch 43/200\n",
      "17085/17085 [==============================] - 133s 8ms/step - loss: 0.3718 - acc: 0.7319 - val_loss: 1.4842 - val_acc: 0.6243\n",
      "\n",
      "Epoch 00043: val_acc did not improve from 0.63163\n",
      "Epoch 44/200\n",
      "17085/17085 [==============================] - 123s 7ms/step - loss: 0.3713 - acc: 0.7310 - val_loss: 1.4939 - val_acc: 0.6286\n",
      "\n",
      "Epoch 00044: val_acc did not improve from 0.63163\n",
      "Epoch 45/200\n",
      "17085/17085 [==============================] - 67s 4ms/step - loss: 0.3794 - acc: 0.7289 - val_loss: 1.5102 - val_acc: 0.6243\n",
      "\n",
      "Epoch 00045: val_acc did not improve from 0.63163\n",
      "Epoch 46/200\n",
      "17085/17085 [==============================] - 66s 4ms/step - loss: 0.3803 - acc: 0.7307 - val_loss: 1.4935 - val_acc: 0.6260\n",
      "\n",
      "Epoch 00046: val_acc did not improve from 0.63163\n",
      "Epoch 47/200\n",
      "17085/17085 [==============================] - 68s 4ms/step - loss: 0.3740 - acc: 0.7314 - val_loss: 1.4863 - val_acc: 0.6373\n",
      "\n",
      "Epoch 00047: val_acc improved from 0.63163 to 0.63727, saving model to meli.hdf5\n",
      "Epoch 48/200\n",
      "17085/17085 [==============================] - 66s 4ms/step - loss: 0.3836 - acc: 0.7325 - val_loss: 1.4847 - val_acc: 0.6306\n",
      "\n",
      "Epoch 00048: val_acc did not improve from 0.63727\n",
      "Epoch 49/200\n",
      "17085/17085 [==============================] - 66s 4ms/step - loss: 0.3802 - acc: 0.7299 - val_loss: 1.4931 - val_acc: 0.6263\n",
      "\n",
      "Epoch 00049: val_acc did not improve from 0.63727\n",
      "Epoch 50/200\n",
      "17085/17085 [==============================] - 68s 4ms/step - loss: 0.3670 - acc: 0.7349 - val_loss: 1.4710 - val_acc: 0.6359\n",
      "\n",
      "Epoch 00050: val_acc did not improve from 0.63727\n",
      "Epoch 51/200\n",
      "17085/17085 [==============================] - 73s 4ms/step - loss: 0.3569 - acc: 0.7416 - val_loss: 1.4979 - val_acc: 0.6340\n",
      "\n",
      "Epoch 00051: val_acc did not improve from 0.63727\n",
      "Epoch 52/200\n",
      "17085/17085 [==============================] - 86s 5ms/step - loss: 0.3630 - acc: 0.7332 - val_loss: 1.5050 - val_acc: 0.6336\n",
      "\n",
      "Epoch 00052: val_acc did not improve from 0.63727\n",
      "Epoch 53/200\n",
      "17085/17085 [==============================] - 138s 8ms/step - loss: 0.3729 - acc: 0.7354 - val_loss: 1.4810 - val_acc: 0.6286\n",
      "\n",
      "Epoch 00053: val_acc did not improve from 0.63727\n",
      "Epoch 54/200\n",
      "17085/17085 [==============================] - 133s 8ms/step - loss: 0.3602 - acc: 0.7387 - val_loss: 1.4781 - val_acc: 0.6356\n",
      "\n",
      "Epoch 00054: val_acc did not improve from 0.63727\n",
      "Epoch 55/200\n",
      "17085/17085 [==============================] - 141s 8ms/step - loss: 0.3586 - acc: 0.7355 - val_loss: 1.4755 - val_acc: 0.6336\n",
      "\n",
      "Epoch 00055: val_acc did not improve from 0.63727\n",
      "Epoch 56/200\n",
      "17085/17085 [==============================] - 141s 8ms/step - loss: 0.3530 - acc: 0.7391 - val_loss: 1.4717 - val_acc: 0.6340\n",
      "\n",
      "Epoch 00056: val_acc did not improve from 0.63727\n",
      "Epoch 57/200\n",
      "17085/17085 [==============================] - 140s 8ms/step - loss: 0.3570 - acc: 0.7423 - val_loss: 1.5015 - val_acc: 0.6313\n",
      "\n",
      "Epoch 00057: val_acc did not improve from 0.63727\n",
      "Epoch 58/200\n",
      "17085/17085 [==============================] - 144s 8ms/step - loss: 0.3529 - acc: 0.7453 - val_loss: 1.4836 - val_acc: 0.6320\n",
      "\n",
      "Epoch 00058: val_acc did not improve from 0.63727\n",
      "Epoch 59/200\n",
      "17085/17085 [==============================] - 149s 9ms/step - loss: 0.3572 - acc: 0.7424 - val_loss: 1.4832 - val_acc: 0.6330\n",
      "\n",
      "Epoch 00059: val_acc did not improve from 0.63727\n",
      "Epoch 60/200\n",
      "17085/17085 [==============================] - 142s 8ms/step - loss: 0.3489 - acc: 0.7446 - val_loss: 1.4830 - val_acc: 0.6369\n",
      "\n",
      "Epoch 00060: val_acc did not improve from 0.63727\n",
      "Epoch 61/200\n",
      "17085/17085 [==============================] - 142s 8ms/step - loss: 0.3551 - acc: 0.7432 - val_loss: 1.4832 - val_acc: 0.6376\n",
      "\n",
      "Epoch 00061: val_acc improved from 0.63727 to 0.63760, saving model to meli.hdf5\n",
      "Epoch 62/200\n",
      "17085/17085 [==============================] - 145s 9ms/step - loss: 0.3513 - acc: 0.7443 - val_loss: 1.4950 - val_acc: 0.6340\n",
      "\n",
      "Epoch 00062: val_acc did not improve from 0.63760\n",
      "Epoch 63/200\n",
      "17085/17085 [==============================] - 137s 8ms/step - loss: 0.3436 - acc: 0.7463 - val_loss: 1.4961 - val_acc: 0.6293\n",
      "\n",
      "Epoch 00063: val_acc did not improve from 0.63760\n",
      "Epoch 64/200\n",
      "17085/17085 [==============================] - 139s 8ms/step - loss: 0.3448 - acc: 0.7420 - val_loss: 1.4833 - val_acc: 0.6369\n",
      "\n",
      "Epoch 00064: val_acc did not improve from 0.63760\n",
      "Epoch 65/200\n",
      "17085/17085 [==============================] - 137s 8ms/step - loss: 0.3412 - acc: 0.7503 - val_loss: 1.4784 - val_acc: 0.6333\n",
      "\n",
      "Epoch 00065: val_acc did not improve from 0.63760\n",
      "Epoch 66/200\n",
      "17085/17085 [==============================] - 133s 8ms/step - loss: 0.3368 - acc: 0.7524 - val_loss: 1.4702 - val_acc: 0.6366\n",
      "\n",
      "Epoch 00066: val_acc did not improve from 0.63760\n",
      "Epoch 67/200\n",
      "17085/17085 [==============================] - 138s 8ms/step - loss: 0.3473 - acc: 0.7483 - val_loss: 1.4831 - val_acc: 0.6485\n",
      "\n",
      "Epoch 00067: val_acc improved from 0.63760 to 0.64854, saving model to meli.hdf5\n",
      "Epoch 68/200\n",
      "17085/17085 [==============================] - 133s 8ms/step - loss: 0.3307 - acc: 0.7501 - val_loss: 1.4849 - val_acc: 0.6300\n",
      "\n",
      "Epoch 00068: val_acc did not improve from 0.64854\n",
      "Epoch 69/200\n",
      "17085/17085 [==============================] - 137s 8ms/step - loss: 0.3442 - acc: 0.7534 - val_loss: 1.4961 - val_acc: 0.6399\n",
      "\n",
      "Epoch 00069: val_acc did not improve from 0.64854\n",
      "Epoch 70/200\n",
      "17085/17085 [==============================] - 141s 8ms/step - loss: 0.3349 - acc: 0.7493 - val_loss: 1.4931 - val_acc: 0.6353\n",
      "\n",
      "Epoch 00070: val_acc did not improve from 0.64854\n",
      "Epoch 71/200\n",
      "17085/17085 [==============================] - 136s 8ms/step - loss: 0.3334 - acc: 0.7526 - val_loss: 1.4936 - val_acc: 0.6376\n",
      "\n",
      "Epoch 00071: val_acc did not improve from 0.64854\n",
      "Epoch 72/200\n",
      "17085/17085 [==============================] - 136s 8ms/step - loss: 0.3390 - acc: 0.7504 - val_loss: 1.4679 - val_acc: 0.6459\n",
      "\n",
      "Epoch 00072: val_acc did not improve from 0.64854\n",
      "Epoch 73/200\n",
      "17085/17085 [==============================] - 138s 8ms/step - loss: 0.3332 - acc: 0.7526 - val_loss: 1.4827 - val_acc: 0.6479\n",
      "\n",
      "Epoch 00073: val_acc did not improve from 0.64854\n",
      "Epoch 74/200\n",
      "17085/17085 [==============================] - 128s 8ms/step - loss: 0.3311 - acc: 0.7558 - val_loss: 1.4909 - val_acc: 0.6383\n",
      "\n",
      "Epoch 00074: val_acc did not improve from 0.64854\n",
      "Epoch 75/200\n",
      "17085/17085 [==============================] - 68s 4ms/step - loss: 0.3252 - acc: 0.7589 - val_loss: 1.4758 - val_acc: 0.6399\n",
      "\n",
      "Epoch 00075: val_acc did not improve from 0.64854\n",
      "Epoch 76/200\n",
      "17085/17085 [==============================] - 133s 8ms/step - loss: 0.3257 - acc: 0.7591 - val_loss: 1.4957 - val_acc: 0.6373\n",
      "\n",
      "Epoch 00076: val_acc did not improve from 0.64854\n",
      "Epoch 77/200\n",
      "17085/17085 [==============================] - 134s 8ms/step - loss: 0.3230 - acc: 0.7599 - val_loss: 1.4712 - val_acc: 0.6442\n",
      "\n",
      "Epoch 00077: val_acc did not improve from 0.64854\n",
      "Epoch 78/200\n",
      "17085/17085 [==============================] - 135s 8ms/step - loss: 0.3351 - acc: 0.7527 - val_loss: 1.4869 - val_acc: 0.6439\n",
      "\n",
      "Epoch 00078: val_acc did not improve from 0.64854\n",
      "Epoch 79/200\n",
      "17085/17085 [==============================] - 136s 8ms/step - loss: 0.3351 - acc: 0.7540 - val_loss: 1.4816 - val_acc: 0.6442\n",
      "\n",
      "Epoch 00079: val_acc did not improve from 0.64854\n",
      "Epoch 80/200\n",
      "17085/17085 [==============================] - 134s 8ms/step - loss: 0.3213 - acc: 0.7596 - val_loss: 1.4946 - val_acc: 0.6466\n",
      "\n",
      "Epoch 00080: val_acc did not improve from 0.64854\n",
      "Epoch 81/200\n",
      "17085/17085 [==============================] - 136s 8ms/step - loss: 0.3217 - acc: 0.7555 - val_loss: 1.4953 - val_acc: 0.6422\n",
      "\n",
      "Epoch 00081: val_acc did not improve from 0.64854\n",
      "Epoch 82/200\n",
      "17085/17085 [==============================] - 139s 8ms/step - loss: 0.3218 - acc: 0.7612 - val_loss: 1.4693 - val_acc: 0.6466\n",
      "Restoring model weights from the end of the best epoch\n",
      "\n",
      "Epoch 00082: val_acc did not improve from 0.64854\n",
      "Epoch 00082: early stopping\n",
      "CPU times: user 6h 18min 19s, sys: 5h 57min 11s, total: 12h 15min 31s\n",
      "Wall time: 2h 42min 18s\n"
     ]
    },
    {
     "data": {
      "text/plain": [
       "<keras.callbacks.callbacks.History at 0x7f980ca8dc10>"
      ]
     },
     "execution_count": 41,
     "metadata": {},
     "output_type": "execute_result"
    }
   ],
   "source": [
    "%%time\n",
    "reduce_lr = ReduceLROnPlateau(monitor='val_acc', factor=0.2, patience=10, verbose=1)\n",
    "\n",
    "early_stopping = EarlyStopping(monitor='val_acc', patience=15, verbose=1, restore_best_weights=True)\n",
    "\n",
    "# clr = CyclicLR(base_lr=0.0002, max_lr=0.0003,\n",
    "#                 step_size=400., mode='exp_range',\n",
    "#                 gamma=0.99994)\n",
    "\n",
    "model_checkpoint = ModelCheckpoint('meli.hdf5',\n",
    "                             monitor='val_acc', \n",
    "                             verbose=1, \n",
    "                             save_best_only=True, \n",
    "                             mode='auto')\n",
    "\n",
    "##callbacks=[reduce_lr, early_stopping,model_checkpoint]\n",
    "callbacks=[early_stopping,model_checkpoint]\n",
    "model.fit(x_train, y_train,\n",
    "          batch_size=512,\n",
    "          epochs=200,\n",
    "          callbacks=callbacks,\n",
    "          validation_data=(x_test, y_test),\n",
    "          class_weight=d_class_weights)"
   ]
  },
  {
   "cell_type": "code",
   "execution_count": 27,
   "metadata": {},
   "outputs": [],
   "source": [
    "preds = model.predict(x_test)"
   ]
  },
  {
   "cell_type": "code",
   "execution_count": 28,
   "metadata": {},
   "outputs": [
    {
     "data": {
      "text/plain": [
       "array([206, 218, 283, ..., 296, 131,  55])"
      ]
     },
     "execution_count": 28,
     "metadata": {},
     "output_type": "execute_result"
    }
   ],
   "source": [
    "preds.argmax(axis=-1)"
   ]
  },
  {
   "cell_type": "code",
   "execution_count": 29,
   "metadata": {},
   "outputs": [
    {
     "data": {
      "text/plain": [
       "array([207, 218, 283, ..., 296, 131,  52])"
      ]
     },
     "execution_count": 29,
     "metadata": {},
     "output_type": "execute_result"
    }
   ],
   "source": [
    "y_test.argmax(axis=1)"
   ]
  },
  {
   "cell_type": "code",
   "execution_count": 30,
   "metadata": {},
   "outputs": [
    {
     "data": {
      "text/plain": [
       "array([['294'],\n",
       "       ['303'],\n",
       "       ['39'],\n",
       "       ...,\n",
       "       ['50'],\n",
       "       ['223'],\n",
       "       ['151']], dtype=object)"
      ]
     },
     "execution_count": 30,
     "metadata": {},
     "output_type": "execute_result"
    }
   ],
   "source": [
    "processor.get_class_name(y_test)"
   ]
  },
  {
   "cell_type": "code",
   "execution_count": 31,
   "metadata": {},
   "outputs": [
    {
     "data": {
      "text/plain": [
       "0.5994742930247443"
      ]
     },
     "execution_count": 31,
     "metadata": {},
     "output_type": "execute_result"
    }
   ],
   "source": [
    "from sklearn.metrics import balanced_accuracy_score\n",
    "balanced_accuracy_score(y_test.argmax(axis=1), preds.argmax(axis=-1))"
   ]
  },
  {
   "cell_type": "code",
   "execution_count": 32,
   "metadata": {},
   "outputs": [],
   "source": [
    "val = pd.read_csv('./test_santander.csv', sep=',')"
   ]
  },
  {
   "cell_type": "code",
   "execution_count": 33,
   "metadata": {},
   "outputs": [],
   "source": [
    "val_prep = processor.transform(val.Pregunta.values)"
   ]
  },
  {
   "cell_type": "code",
   "execution_count": 34,
   "metadata": {},
   "outputs": [
    {
     "data": {
      "text/plain": [
       "(6702, 17)"
      ]
     },
     "execution_count": 34,
     "metadata": {},
     "output_type": "execute_result"
    }
   ],
   "source": [
    "val_prep.shape"
   ]
  },
  {
   "cell_type": "code",
   "execution_count": 35,
   "metadata": {},
   "outputs": [],
   "source": [
    "val_preds = model.predict(val_prep)"
   ]
  },
  {
   "cell_type": "code",
   "execution_count": 36,
   "metadata": {},
   "outputs": [
    {
     "data": {
      "text/plain": [
       "(6702, 350)"
      ]
     },
     "execution_count": 36,
     "metadata": {},
     "output_type": "execute_result"
    }
   ],
   "source": [
    "val_preds.shape"
   ]
  },
  {
   "cell_type": "code",
   "execution_count": 37,
   "metadata": {},
   "outputs": [
    {
     "data": {
      "text/plain": [
       "array(['314', '303', '311', ..., '199', '138', '337'], dtype=object)"
      ]
     },
     "execution_count": 37,
     "metadata": {},
     "output_type": "execute_result"
    }
   ],
   "source": [
    "processor.get_class_name(val_preds).flatten()"
   ]
  },
  {
   "cell_type": "code",
   "execution_count": 38,
   "metadata": {},
   "outputs": [],
   "source": [
    "subm = pd.DataFrame({'id':val.id.values, 'pred': processor.get_class_name(val_preds).flatten()})"
   ]
  },
  {
   "cell_type": "code",
   "execution_count": 39,
   "metadata": {},
   "outputs": [],
   "source": [
    "subm.to_csv('meli.csv',header=False, index=False)"
   ]
  },
  {
   "cell_type": "code",
   "execution_count": null,
   "metadata": {},
   "outputs": [],
   "source": []
  }
 ],
 "metadata": {
  "environment": {
   "name": "tf2-2-2-gpu.2-2.m49",
   "type": "gcloud",
   "uri": "gcr.io/deeplearning-platform-release/tf2-2-2-gpu.2-2:m49"
  },
  "kernelspec": {
   "display_name": "Python 3",
   "language": "python",
   "name": "python3"
  },
  "language_info": {
   "codemirror_mode": {
    "name": "ipython",
    "version": 3
   },
   "file_extension": ".py",
   "mimetype": "text/x-python",
   "name": "python",
   "nbconvert_exporter": "python",
   "pygments_lexer": "ipython3",
   "version": "3.7.6"
  }
 },
 "nbformat": 4,
 "nbformat_minor": 4
}
